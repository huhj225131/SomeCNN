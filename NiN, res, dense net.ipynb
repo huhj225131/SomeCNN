{
  "cells": [
    {
      "cell_type": "markdown",
      "metadata": {
        "id": "tSwtJ2hY3rY7"
      },
      "source": [
        "# Thử ngồi code hết mấy cái CNN tìm hiểu được 2"
      ]
    },
    {
      "cell_type": "markdown",
      "metadata": {
        "id": "YMPQM3Pr4B5v"
      },
      "source": [
        "##I. Dataset: CIFAR-10"
      ]
    },
    {
      "cell_type": "code",
      "execution_count": 1,
      "metadata": {
        "id": "OwW1b25b4GVq"
      },
      "outputs": [],
      "source": [
        "import torch\n",
        "from torch import nn\n",
        "import torchvision\n",
        "from torchvision import datasets\n",
        "from torchvision import transforms\n",
        "from torchvision.transforms import ToTensor\n",
        "import matplotlib.pyplot as plt\n",
        "from tqdm.auto import tqdm\n",
        "from pathlib import Path\n",
        "import torch.nn.functional as F"
      ]
    },
    {
      "cell_type": "code",
      "execution_count": 2,
      "metadata": {
        "colab": {
          "base_uri": "https://localhost:8080/"
        },
        "id": "ipzYxCXo4GzO",
        "outputId": "7a240cab-2178-4987-dc77-6ead5b6a1e29"
      },
      "outputs": [
        {
          "output_type": "stream",
          "name": "stdout",
          "text": [
            "Downloading https://www.cs.toronto.edu/~kriz/cifar-10-python.tar.gz to dataset/cifar-10-python.tar.gz\n"
          ]
        },
        {
          "output_type": "stream",
          "name": "stderr",
          "text": [
            "100%|██████████| 170M/170M [00:08<00:00, 20.1MB/s]\n"
          ]
        },
        {
          "output_type": "stream",
          "name": "stdout",
          "text": [
            "Extracting dataset/cifar-10-python.tar.gz to dataset\n",
            "Files already downloaded and verified\n"
          ]
        }
      ],
      "source": [
        "#Load train and test data\n",
        "train_data = torchvision.datasets.CIFAR10(root='dataset', train=True,\n",
        "                                          download=True,\n",
        "                                          transform=ToTensor(),\n",
        "                                          target_transform=None)\n",
        "test_data = torchvision.datasets.CIFAR10(root='dataset', train=False,\n",
        "                                         download=True, transform=ToTensor(),\n",
        "                                         target_transform=None)"
      ]
    },
    {
      "cell_type": "code",
      "execution_count": 3,
      "metadata": {
        "colab": {
          "base_uri": "https://localhost:8080/"
        },
        "id": "TPq0QQ8E4JcK",
        "outputId": "4609ed16-d083-4af2-90df-c2c0378691fe"
      },
      "outputs": [
        {
          "output_type": "execute_result",
          "data": {
            "text/plain": [
              "(50000, 10000)"
            ]
          },
          "metadata": {},
          "execution_count": 3
        }
      ],
      "source": [
        "len(train_data), len(test_data)"
      ]
    },
    {
      "cell_type": "code",
      "execution_count": 4,
      "metadata": {
        "colab": {
          "base_uri": "https://localhost:8080/"
        },
        "id": "IxX_IcPZ4Md3",
        "outputId": "37d2eb50-43cc-4cb2-9500-f19a19293f95"
      },
      "outputs": [
        {
          "output_type": "execute_result",
          "data": {
            "text/plain": [
              "Dataset CIFAR10\n",
              "    Number of datapoints: 50000\n",
              "    Root location: dataset\n",
              "    Split: Train\n",
              "    StandardTransform\n",
              "Transform: ToTensor()"
            ]
          },
          "metadata": {},
          "execution_count": 4
        }
      ],
      "source": [
        "train_data"
      ]
    },
    {
      "cell_type": "code",
      "execution_count": 5,
      "metadata": {
        "colab": {
          "base_uri": "https://localhost:8080/",
          "height": 0
        },
        "id": "9cvG7FSw4OEV",
        "outputId": "c8cae283-1d5e-49cf-aafb-7a6bc109e022"
      },
      "outputs": [
        {
          "output_type": "display_data",
          "data": {
            "text/plain": [
              "<Figure size 1000x700 with 1 Axes>"
            ],
            "image/png": "[encoded data removed]"
          },
          "metadata": {}
        },
        {
          "output_type": "execute_result",
          "data": {
            "text/plain": [
              "(32, 32, 3)"
            ]
          },
          "metadata": {},
          "execution_count": 5
        }
      ],
      "source": [
        "#Select random image\n",
        "torch.manual_seed(13)\n",
        "idx = torch.randint(0 , len(train_data), size  = [1])\n",
        "image, label = train_data[idx]\n",
        "\n",
        "#Get image class\n",
        "class_names = train_data.classes\n",
        "\n",
        "# Convert (C, H, W) to (H, W, C)\n",
        "image = image.permute(1,2,0)\n",
        "image = image.numpy()\n",
        "\n",
        "#Show image\n",
        "plt.figure(figsize=(10,7))\n",
        "plt.axis('off')\n",
        "plt.imshow(image)\n",
        "plt.title(class_names[label])\n",
        "plt.show()\n",
        "image.shape"
      ]
    },
    {
      "cell_type": "code",
      "execution_count": 6,
      "metadata": {
        "colab": {
          "base_uri": "https://localhost:8080/",
          "height": 0
        },
        "id": "ARS4Z4Is4QOZ",
        "outputId": "887d86d2-45e4-4566-988e-b6ecd6eb4092"
      },
      "outputs": [
        {
          "output_type": "display_data",
          "data": {
            "text/plain": [
              "<Figure size 1000x700 with 9 Axes>"
            ],
            "image/png": "[encoded data removed]"
          },
          "metadata": {}
        }
      ],
      "source": [
        "torch.manual_seed(24)\n",
        "pic = plt.figure(figsize= (10,7))\n",
        "rows = 3\n",
        "columns = 3\n",
        "for i in range(rows * columns):\n",
        "  idx = torch.randint(0, len(train_data), size=[1])\n",
        "  image, label = train_data[idx]\n",
        "\n",
        "  image = image.permute(1,2,0)\n",
        "  image = image.numpy()\n",
        "  pic.add_subplot(rows, columns, i+ 1)\n",
        "  plt.imshow(image)\n",
        "  plt.title(class_names[label])\n",
        "  plt.axis('off')\n",
        "plt.show()"
      ]
    },
    {
      "cell_type": "code",
      "execution_count": 7,
      "metadata": {
        "id": "4ItuiPK-4See"
      },
      "outputs": [],
      "source": [
        "from torch.utils.data import DataLoader\n",
        "\n",
        "BATCH_SIZE = 32\n",
        "\n",
        "train_dataloader = DataLoader(dataset = train_data,\n",
        "                              batch_size = BATCH_SIZE,\n",
        "                              shuffle=True)\n",
        "test_dataloader = DataLoader(dataset = test_data,\n",
        "                             batch_size = BATCH_SIZE,\n",
        "                             shuffle=False)\n"
      ]
    },
    {
      "cell_type": "markdown",
      "metadata": {
        "id": "YdTkKpin5LFK"
      },
      "source": [
        "## Get some helper function"
      ]
    },
    {
      "cell_type": "code",
      "execution_count": 8,
      "metadata": {
        "colab": {
          "base_uri": "https://localhost:8080/"
        },
        "id": "AazVSWV04U3A",
        "outputId": "0ab4dec3-7347-4910-8dec-6d816b7e0427"
      },
      "outputs": [
        {
          "output_type": "stream",
          "name": "stdout",
          "text": [
            "Download helper_functions.py\n"
          ]
        }
      ],
      "source": [
        "import requests\n",
        "from pathlib import Path\n",
        "\n",
        "if Path('helper_functions.py').is_file():\n",
        "  print(\"Helper functions already exists, skipping dowload\" )\n",
        "else:\n",
        "  print(\"Download helper_functions.py\")\n",
        "  request = requests.get(\"https://raw.githubusercontent.com/huhj225131/SomeCNN/main/helper_functions.py\")\n",
        "  with open(\"helper_functions.py\", \"wb\") as f:\n",
        "    f.write(request.content)"
      ]
    },
    {
      "cell_type": "code",
      "execution_count": 9,
      "metadata": {
        "id": "WkzR-cIe6zXI"
      },
      "outputs": [],
      "source": [
        "from helper_functions import *"
      ]
    },
    {
      "cell_type": "code",
      "execution_count": 10,
      "metadata": {
        "colab": {
          "base_uri": "https://localhost:8080/",
          "height": 0
        },
        "id": "U0pUIJxdKw4n",
        "outputId": "9afbcb21-3b5c-4166-b203-5d48e9b5bfff"
      },
      "outputs": [
        {
          "output_type": "execute_result",
          "data": {
            "text/plain": [
              "'cuda'"
            ],
            "application/vnd.google.colaboratory.intrinsic+json": {
              "type": "string"
            }
          },
          "metadata": {},
          "execution_count": 10
        }
      ],
      "source": [
        "device = 'cuda' if torch.cuda.is_available() else 'cpu'\n",
        "device"
      ]
    },
    {
      "cell_type": "code",
      "execution_count": 11,
      "metadata": {
        "id": "CWXaYMh-K1hj"
      },
      "outputs": [],
      "source": [
        "# Create directory to store models\n",
        "MODEL_PATH = Path(\"models\")\n",
        "MODEL_PATH.mkdir(parents=True,\n",
        "                 exist_ok = True)"
      ]
    },
    {
      "cell_type": "markdown",
      "metadata": {
        "id": "G_NVUqGH77Cc"
      },
      "source": [
        "## CNN"
      ]
    },
    {
      "cell_type": "markdown",
      "metadata": {
        "id": "U816ZgtV79_3"
      },
      "source": [
        "###Network in Network\n",
        "Basically, this network doesn't need a fully connected layer in the end.Instead, it uses 1 x 1 kernel in NiN block to compute features for each pixel in images"
      ]
    },
    {
      "cell_type": "code",
      "execution_count": null,
      "metadata": {
        "id": "chp_gmy462zC"
      },
      "outputs": [],
      "source": [
        "def NiN_block(kernel, output, stride, padding):\n",
        "  block = []\n",
        "  block.append(nn.LazyConv2d(out_channels=output,kernel_size=kernel, stride=stride, padding=padding))\n",
        "  block.append(nn.ReLU())\n",
        "  for i in range(2):\n",
        "    block.append(nn.Conv2d(in_channels=output,out_channels=output,kernel_size=1))\n",
        "    block.append(nn.ReLU())\n",
        "  return nn.Sequential(*block)"
      ]
    },
    {
      "cell_type": "code",
      "execution_count": null,
      "metadata": {
        "id": "5lldGFY89L5N"
      },
      "outputs": [],
      "source": [
        "class NiN(nn.Module):\n",
        "  def __init__(self,arch,output_channels):\n",
        "    super().__init__()\n",
        "    self.conv_net = []\n",
        "    for  output ,kernel, stride, padding in arch:\n",
        "      self.conv_net.append(NiN_block(kernel, output, stride, padding))\n",
        "      self.conv_net.append(nn.MaxPool2d(kernel_size=3, stride=2))\n",
        "    self.conv_net.append(nn.Dropout(0.5))\n",
        "    self.conv_net.append(NiN_block(3, output_channels, 1, 1))\n",
        "    self.conv_net.append(nn.AdaptiveAvgPool2d(1))\n",
        "    self.conv_net.append(nn.Flatten())\n",
        "    self.conv_net = nn.Sequential(*self.conv_net)\n",
        "\n",
        "  def forward(self, X):\n",
        "    return self.conv_net(X)"
      ]
    },
    {
      "cell_type": "code",
      "execution_count": null,
      "metadata": {
        "id": "aCCtLDTfBJ1c"
      },
      "outputs": [],
      "source": [
        "arch = [(96, 5,3,0), (256,2,1,2), (384,3,1,1)]\n",
        "NiN_model = NiN(arch, len(class_names))\n",
        "# NiN_model.apply(init_cnn_he)"
      ]
    },
    {
      "cell_type": "code",
      "execution_count": null,
      "metadata": {
        "id": "5JOJz_hvH-ma"
      },
      "outputs": [],
      "source": [
        "dummy_input = torch.rand(1,3,32,32)\n",
        "dummy_output = NiN_model(dummy_input)"
      ]
    },
    {
      "cell_type": "code",
      "execution_count": null,
      "metadata": {
        "colab": {
          "base_uri": "https://localhost:8080/"
        },
        "id": "mznRsKU8IMuI",
        "outputId": "6f9aba5f-2f59-47ae-a726-1a24bf20ab81"
      },
      "outputs": [
        {
          "data": {
            "text/plain": [
              "NiN(\n",
              "  (conv_net): Sequential(\n",
              "    (0): Sequential(\n",
              "      (0): Conv2d(3, 96, kernel_size=(5, 5), stride=(3, 3))\n",
              "      (1): ReLU()\n",
              "      (2): Conv2d(96, 96, kernel_size=(1, 1), stride=(1, 1))\n",
              "      (3): ReLU()\n",
              "      (4): Conv2d(96, 96, kernel_size=(1, 1), stride=(1, 1))\n",
              "      (5): ReLU()\n",
              "    )\n",
              "    (1): MaxPool2d(kernel_size=3, stride=2, padding=0, dilation=1, ceil_mode=False)\n",
              "    (2): Sequential(\n",
              "      (0): Conv2d(96, 256, kernel_size=(2, 2), stride=(1, 1), padding=(2, 2))\n",
              "      (1): ReLU()\n",
              "      (2): Conv2d(256, 256, kernel_size=(1, 1), stride=(1, 1))\n",
              "      (3): ReLU()\n",
              "      (4): Conv2d(256, 256, kernel_size=(1, 1), stride=(1, 1))\n",
              "      (5): ReLU()\n",
              "    )\n",
              "    (3): MaxPool2d(kernel_size=3, stride=2, padding=0, dilation=1, ceil_mode=False)\n",
              "    (4): Sequential(\n",
              "      (0): Conv2d(256, 384, kernel_size=(3, 3), stride=(1, 1), padding=(1, 1))\n",
              "      (1): ReLU()\n",
              "      (2): Conv2d(384, 384, kernel_size=(1, 1), stride=(1, 1))\n",
              "      (3): ReLU()\n",
              "      (4): Conv2d(384, 384, kernel_size=(1, 1), stride=(1, 1))\n",
              "      (5): ReLU()\n",
              "    )\n",
              "    (5): MaxPool2d(kernel_size=3, stride=2, padding=0, dilation=1, ceil_mode=False)\n",
              "    (6): Dropout(p=0.5, inplace=False)\n",
              "    (7): Sequential(\n",
              "      (0): Conv2d(384, 10, kernel_size=(3, 3), stride=(1, 1), padding=(1, 1))\n",
              "      (1): ReLU()\n",
              "      (2): Conv2d(10, 10, kernel_size=(1, 1), stride=(1, 1))\n",
              "      (3): ReLU()\n",
              "      (4): Conv2d(10, 10, kernel_size=(1, 1), stride=(1, 1))\n",
              "      (5): ReLU()\n",
              "    )\n",
              "    (8): AdaptiveAvgPool2d(output_size=1)\n",
              "    (9): Flatten(start_dim=1, end_dim=-1)\n",
              "  )\n",
              ")"
            ]
          },
          "execution_count": 40,
          "metadata": {},
          "output_type": "execute_result"
        }
      ],
      "source": [
        "NiN_model.apply(init_cnn_he)"
      ]
    },
    {
      "cell_type": "code",
      "execution_count": null,
      "metadata": {
        "id": "yx-m7jvnIncW"
      },
      "outputs": [],
      "source": [
        "loss_fn = nn.CrossEntropyLoss()\n",
        "optimizer = torch.optim.SGD(NiN_model.parameters(), lr = 0.1)"
      ]
    },
    {
      "cell_type": "code",
      "execution_count": null,
      "metadata": {
        "colab": {
          "base_uri": "https://localhost:8080/"
        },
        "id": "feATjHF0KnzD",
        "outputId": "9beecc93-439b-4268-885f-b03325133ef5"
      },
      "outputs": [
        {
          "data": {
            "text/plain": [
              "PosixPath('models/NiN.pth')"
            ]
          },
          "execution_count": 46,
          "metadata": {},
          "output_type": "execute_result"
        }
      ],
      "source": [
        "#Create save path\n",
        "MODEL_NAME = \"NiN.pth\"\n",
        "\n",
        "MODEL_SAVE_PATH = MODEL_PATH/MODEL_NAME\n",
        "\n",
        "MODEL_SAVE_PATH"
      ]
    },
    {
      "cell_type": "code",
      "execution_count": null,
      "metadata": {
        "colab": {
          "base_uri": "https://localhost:8080/"
        },
        "id": "dqhZJuzzK3Kv",
        "outputId": "33887ad6-903f-4e06-a9d6-931770937535"
      },
      "outputs": [
        {
          "data": {
            "text/plain": [
              "59.844249201277954"
            ]
          },
          "execution_count": 47,
          "metadata": {},
          "output_type": "execute_result"
        }
      ],
      "source": [
        "_, best_acc = eval_model(NiN_model, test_dataloader, loss_fn, accuracy_fn, device )\n",
        "best_acc\n"
      ]
    },
    {
      "cell_type": "code",
      "execution_count": null,
      "metadata": {
        "colab": {
          "base_uri": "https://localhost:8080/",
          "height": 656,
          "referenced_widgets": [
            "0c9da165e962498095c46c8e2507d631",
            "0c63088f130e425792c93f3127fd7b7e",
            "5805cfd192d34617bfae39c23f49d51d",
            "5fbea1cc2b5248b7a567362f261249d7",
            "679a2f4e624849b2b63719f998889f5c",
            "0e2a732b8cb24b1dbeb9952a4570644b",
            "42384e1732604757a1efa2c45e0798d2",
            "19d755ac42454c61862c72b4ca7b5460",
            "861b791160b04979a977afee32703cb1",
            "99649cd57fee4752a572bc5438058661",
            "f462c7c702254dbc9d5689b76d7b8298"
          ]
        },
        "id": "qmdAvyvXLEQB",
        "outputId": "b3fb61a8-47de-47f2-fdfe-e8c06400db5e"
      },
      "outputs": [
        {
          "data": {
            "application/vnd.jupyter.widget-view+json": {
              "model_id": "0c9da165e962498095c46c8e2507d631",
              "version_major": 2,
              "version_minor": 0
            },
            "text/plain": [
              "  0%|          | 0/22 [00:00<?, ?it/s]"
            ]
          },
          "metadata": {},
          "output_type": "display_data"
        },
        {
          "name": "stdout",
          "output_type": "stream",
          "text": [
            "model tốt đấy, lưu nhé\n",
            "Epoch: 0 | Train loss: 2.140012264251709 | Train accuracy: 18.316138835572616 | Test loss: 1.8886979818344116 | Test_acc: 26.367811501597444\n",
            "model tốt đấy, lưu nhé\n",
            "Epoch: 1 | Train loss: 1.814509391784668 | Train accuracy: 29.84045105566219 | Test loss: 1.6884874105453491 | Test_acc: 36.671325878594246\n",
            "model tốt đấy, lưu nhé\n",
            "Epoch: 2 | Train loss: 1.6461323499679565 | Train accuracy: 37.983845169545745 | Test loss: 1.531860113143921 | Test_acc: 43.650159744408946\n",
            "model tốt đấy, lưu nhé\n",
            "Epoch: 3 | Train loss: 1.5433878898620605 | Train accuracy: 43.35212731925784 | Test loss: 1.4539388418197632 | Test_acc: 46.944888178913736\n",
            "model tốt đấy, lưu nhé\n",
            "Epoch: 4 | Train loss: 1.4557228088378906 | Train accuracy: 47.55478246960973 | Test loss: 1.4471452236175537 | Test_acc: 47.8035143769968\n",
            "model tốt đấy, lưu nhé\n",
            "Epoch: 5 | Train loss: 1.389695167541504 | Train accuracy: 50.541826615483046 | Test loss: 1.412922978401184 | Test_acc: 49.04153354632588\n",
            "model tốt đấy, lưu nhé\n",
            "Epoch: 6 | Train loss: 1.3312911987304688 | Train accuracy: 52.89107485604607 | Test loss: 1.3136142492294312 | Test_acc: 53.42452076677316\n",
            "Epoch: 7 | Train loss: 1.2789874076843262 | Train accuracy: 54.83445297504799 | Test loss: 1.4061211347579956 | Test_acc: 53.055111821086264\n",
            "model tốt đấy, lưu nhé\n",
            "Epoch: 8 | Train loss: 1.2358953952789307 | Train accuracy: 56.61788227767114 | Test loss: 1.2309091091156006 | Test_acc: 57.32827476038339\n",
            "Epoch: 9 | Train loss: 1.1924197673797607 | Train accuracy: 58.3893154190659 | Test loss: 1.342439889907837 | Test_acc: 53.03514376996805\n",
            "Epoch: 10 | Train loss: 1.1592154502868652 | Train accuracy: 59.75087971849008 | Test loss: 1.269236445426941 | Test_acc: 55.63099041533546\n",
            "Epoch: 11 | Train loss: 1.1227869987487793 | Train accuracy: 60.80654190658989 | Test loss: 1.2813732624053955 | Test_acc: 56.46964856230032\n",
            "Epoch: 12 | Train loss: 1.0905826091766357 | Train accuracy: 62.3780390275112 | Test loss: 1.300211787223816 | Test_acc: 55.341453674121404\n",
            "model tốt đấy, lưu nhé\n",
            "Epoch: 13 | Train loss: 1.064798355102539 | Train accuracy: 63.27975047984645 | Test loss: 1.2201933860778809 | Test_acc: 58.77595846645367\n",
            "model tốt đấy, lưu nhé\n",
            "Epoch: 14 | Train loss: 1.026239037513733 | Train accuracy: 64.84325015994882 | Test loss: 1.2509740591049194 | Test_acc: 58.93570287539936\n",
            "Epoch: 15 | Train loss: 1.009342074394226 | Train accuracy: 65.30110364683301 | Test loss: 1.284608006477356 | Test_acc: 56.91892971246006\n",
            "model tốt đấy, lưu nhé\n",
            "Epoch: 16 | Train loss: 0.9849181175231934 | Train accuracy: 66.38275751759437 | Test loss: 1.1959246397018433 | Test_acc: 60.742811501597444\n",
            "Epoch: 17 | Train loss: 0.9635422825813293 | Train accuracy: 67.28246960972488 | Test loss: 1.272181749343872 | Test_acc: 59.45487220447284\n",
            "model tốt đấy, lưu nhé\n",
            "Epoch: 18 | Train loss: 0.9375709295272827 | Train accuracy: 68.11420345489444 | Test loss: 1.190293550491333 | Test_acc: 61.43170926517572\n",
            "model tốt đấy, lưu nhé\n",
            "Epoch: 19 | Train loss: 0.9334467053413391 | Train accuracy: 68.32613563659629 | Test loss: 1.1589316129684448 | Test_acc: 62.27036741214057\n",
            "Epoch: 20 | Train loss: 0.8955844044685364 | Train accuracy: 69.81965770953295 | Test loss: 1.296558141708374 | Test_acc: 60.403354632587856\n",
            "Epoch: 21 | Train loss: 0.8835814595222473 | Train accuracy: 70.51143634037108 | Test loss: 1.2583084106445312 | Test_acc: 59.844249201277954\n"
          ]
        }
      ],
      "source": [
        "train, test = train_test_model(NiN_model, train_dataloader,\n",
        "                 test_dataloader,loss_fn, accuracy_fn, optimizer,MODEL_SAVE_PATH,\n",
        "                22, device, best_acc)"
      ]
    },
    {
      "cell_type": "code",
      "execution_count": null,
      "metadata": {
        "colab": {
          "base_uri": "https://localhost:8080/",
          "height": 753
        },
        "id": "O2B3FdOXMt8N",
        "outputId": "5c4d9b14-b9ef-4347-fcc4-3ff57d5ea92d"
      },
      "outputs": [
        {
          "data": {
            "image/png": "[encoded data removed]",
            "text/plain": [
              "<Figure size 1000x900 with 2 Axes>"
            ]
          },
          "metadata": {},
          "output_type": "display_data"
        }
      ],
      "source": [
        "plot_trainning_progress(train, test) #Train lượt 1 15 epochs"
      ]
    },
    {
      "cell_type": "code",
      "execution_count": null,
      "metadata": {
        "colab": {
          "base_uri": "https://localhost:8080/",
          "height": 580
        },
        "id": "DrnZ9bsNNK-l",
        "outputId": "1944f64f-3be2-4463-aebf-da8425cf70c5"
      },
      "outputs": [
        {
          "data": {
            "image/png": "[encoded data removed]",
            "text/plain": [
              "<Figure size 1000x900 with 2 Axes>"
            ]
          },
          "metadata": {},
          "output_type": "display_data"
        }
      ],
      "source": [
        "plot_trainning_progress(train, test) #Train lượt 2 22 epochs"
      ]
    },
    {
      "cell_type": "code",
      "execution_count": null,
      "metadata": {
        "colab": {
          "base_uri": "https://localhost:8080/"
        },
        "id": "VWg5yiJjMucD",
        "outputId": "95ceed75-4f34-41b8-e20f-e57af6904457"
      },
      "outputs": [
        {
          "data": {
            "text/plain": [
              "(tensor(1.1673, device='cuda:0'), 63.27875399361022)"
            ]
          },
          "execution_count": 27,
          "metadata": {},
          "output_type": "execute_result"
        }
      ],
      "source": [
        "NiN_model.load_state_dict(torch.load(MODEL_SAVE_PATH,weights_only=True))\n",
        "eval_model(NiN_model,test_dataloader,loss_fn,accuracy_fn,device)"
      ]
    },
    {
      "cell_type": "markdown",
      "metadata": {
        "id": "eJXkA4_tPD_6"
      },
      "source": [
        "###Google Net inspired network ( because the origin model's used for 224 x 224 and it's relatively big to train :)) )"
      ]
    },
    {
      "cell_type": "code",
      "execution_count": null,
      "metadata": {
        "id": "tHp05c9QSpXi"
      },
      "outputs": [],
      "source": [
        "#Inception is composed of many different kernel. It is because a research won in 2014\n",
        "#ImageNet competition indentified that trainning with variety kernel may be effective\n",
        "\n",
        "class Inception(nn.Module):\n",
        "    def __init__(self, in_channels, c1, c2, c3, c4):\n",
        "        super(Inception, self).__init__()\n",
        "        self.branch1 = nn.Sequential(\n",
        "            nn.Conv2d(in_channels, c1, kernel_size=1), nn.ReLU()\n",
        "        )\n",
        "\n",
        "        self.branch2 = nn.Sequential(\n",
        "            nn.Conv2d(in_channels, c2[0], kernel_size=1), nn.ReLU(),\n",
        "            nn.Conv2d(c2[0], c2[1], kernel_size=3, padding=1), nn.ReLU()\n",
        "        )\n",
        "\n",
        "        self.branch3 = nn.Sequential(\n",
        "            nn.Conv2d(in_channels, c3[0], kernel_size=1), nn.ReLU(),\n",
        "            nn.Conv2d(c3[0], c3[1], kernel_size=3, padding=1), nn.ReLU()\n",
        "        )\n",
        "\n",
        "        self.branch4 = nn.Sequential(\n",
        "            nn.MaxPool2d(kernel_size=3, stride=1, padding=1),\n",
        "            nn.Conv2d(in_channels, c4, kernel_size=1), nn.ReLU()\n",
        "        )\n",
        "\n",
        "    def forward(self, x):\n",
        "        return torch.cat([\n",
        "            self.branch1(x),\n",
        "            self.branch2(x),\n",
        "            self.branch3(x),\n",
        "            self.branch4(x)\n",
        "        ], dim=1)"
      ]
    },
    {
      "cell_type": "code",
      "execution_count": null,
      "metadata": {
        "id": "34_1YcAqimzO"
      },
      "outputs": [],
      "source": [
        "class Google_Net(nn.Module):\n",
        "    def __init__(self):\n",
        "        super(Google_Net, self).__init__()\n",
        "\n",
        "        self.b1 = nn.Sequential(\n",
        "            nn.Conv2d(3, 64, kernel_size=7, stride=2, padding=3), nn.ReLU(),\n",
        "            nn.MaxPool2d(kernel_size=3, stride=2, padding=1)\n",
        "        )\n",
        "\n",
        "        self.b2 = nn.Sequential(\n",
        "            nn.Conv2d(64, 64, kernel_size=1), nn.ReLU(),\n",
        "            nn.Conv2d(64, 192, kernel_size=3, padding=1), nn.ReLU(),\n",
        "            nn.MaxPool2d(kernel_size=3, stride=2, padding=1)\n",
        "        )\n",
        "\n",
        "        self.b3 = nn.Sequential(\n",
        "            Inception(192, 64, (96, 128), (16, 32), 32),\n",
        "            Inception(256, 128, (128, 192), (32, 96), 64),\n",
        "            nn.MaxPool2d(kernel_size=3, stride=2, padding=1)\n",
        "        )\n",
        "\n",
        "        self.b4 = nn.Sequential(\n",
        "            Inception(256, 96, (96, 208), (16, 48), 64),\n",
        "            Inception(256, 112, (112, 224), (24, 64), 64),\n",
        "            Inception(256, 128, (128, 256), (24, 64), 64),\n",
        "            Inception(256, 144, (144, 288), (32, 64), 64),\n",
        "            Inception(256, 160, (160, 320), (32, 128), 128),\n",
        "            nn.MaxPool2d(kernel_size=3, stride=2, padding=1)\n",
        "        )\n",
        "\n",
        "        self.b5 = nn.Sequential(\n",
        "            Inception(256, 160, (160, 320), (32, 128), 128),\n",
        "            Inception(384, 192, (192, 384), (48, 128), 128),\n",
        "            nn.AdaptiveAvgPool2d((1, 1))\n",
        "        )\n",
        "\n",
        "        self.fc = nn.Linear(1024, 10)  # 1024 là tổng số kênh đầu ra\n",
        "\n",
        "    def forward(self, x):\n",
        "        x = self.b1(x)\n",
        "        x = self.b2(x)\n",
        "        x = self.b3(x)\n",
        "        x = self.b4(x)\n",
        "        x = self.b5(x)\n",
        "        x = torch.flatten(x, 1)\n",
        "        x = self.fc(x)\n",
        "        return x\n"
      ]
    },
    {
      "cell_type": "code",
      "execution_count": null,
      "metadata": {
        "id": "DkotxJ0WRuDq"
      },
      "outputs": [],
      "source": [
        "gg_model = Google_Net()"
      ]
    },
    {
      "cell_type": "code",
      "execution_count": null,
      "metadata": {
        "colab": {
          "base_uri": "https://localhost:8080/"
        },
        "id": "CTEYqrVhR0EX",
        "outputId": "7b24943d-6102-49c6-aad4-a39fb1bc4a3e"
      },
      "outputs": [
        {
          "data": {
            "text/plain": [
              "4272714"
            ]
          },
          "execution_count": 17,
          "metadata": {},
          "output_type": "execute_result"
        }
      ],
      "source": [
        "sum(p.numel() for p in gg_model.parameters())"
      ]
    },
    {
      "cell_type": "code",
      "execution_count": null,
      "metadata": {
        "colab": {
          "base_uri": "https://localhost:8080/"
        },
        "id": "Oii8D3k0R5_T",
        "outputId": "f3e57640-1782-4187-85a7-ff9707081ed3"
      },
      "outputs": [
        {
          "data": {
            "text/plain": [
              "Google_Net(\n",
              "  (b1): Sequential(\n",
              "    (0): Conv2d(3, 64, kernel_size=(7, 7), stride=(2, 2), padding=(3, 3))\n",
              "    (1): ReLU()\n",
              "    (2): MaxPool2d(kernel_size=3, stride=2, padding=1, dilation=1, ceil_mode=False)\n",
              "  )\n",
              "  (b2): Sequential(\n",
              "    (0): Conv2d(64, 64, kernel_size=(1, 1), stride=(1, 1))\n",
              "    (1): ReLU()\n",
              "    (2): Conv2d(64, 192, kernel_size=(3, 3), stride=(1, 1), padding=(1, 1))\n",
              "    (3): ReLU()\n",
              "    (4): MaxPool2d(kernel_size=3, stride=2, padding=1, dilation=1, ceil_mode=False)\n",
              "  )\n",
              "  (b3): Sequential(\n",
              "    (0): Inception(\n",
              "      (branch1): Sequential(\n",
              "        (0): Conv2d(192, 64, kernel_size=(1, 1), stride=(1, 1))\n",
              "        (1): ReLU()\n",
              "      )\n",
              "      (branch2): Sequential(\n",
              "        (0): Conv2d(192, 96, kernel_size=(1, 1), stride=(1, 1))\n",
              "        (1): ReLU()\n",
              "        (2): Conv2d(96, 128, kernel_size=(3, 3), stride=(1, 1), padding=(1, 1))\n",
              "        (3): ReLU()\n",
              "      )\n",
              "      (branch3): Sequential(\n",
              "        (0): Conv2d(192, 16, kernel_size=(1, 1), stride=(1, 1))\n",
              "        (1): ReLU()\n",
              "        (2): Conv2d(16, 32, kernel_size=(3, 3), stride=(1, 1), padding=(1, 1))\n",
              "        (3): ReLU()\n",
              "      )\n",
              "      (branch4): Sequential(\n",
              "        (0): MaxPool2d(kernel_size=3, stride=1, padding=1, dilation=1, ceil_mode=False)\n",
              "        (1): Conv2d(192, 32, kernel_size=(1, 1), stride=(1, 1))\n",
              "        (2): ReLU()\n",
              "      )\n",
              "    )\n",
              "    (1): Inception(\n",
              "      (branch1): Sequential(\n",
              "        (0): Conv2d(256, 128, kernel_size=(1, 1), stride=(1, 1))\n",
              "        (1): ReLU()\n",
              "      )\n",
              "      (branch2): Sequential(\n",
              "        (0): Conv2d(256, 128, kernel_size=(1, 1), stride=(1, 1))\n",
              "        (1): ReLU()\n",
              "        (2): Conv2d(128, 192, kernel_size=(3, 3), stride=(1, 1), padding=(1, 1))\n",
              "        (3): ReLU()\n",
              "      )\n",
              "      (branch3): Sequential(\n",
              "        (0): Conv2d(256, 32, kernel_size=(1, 1), stride=(1, 1))\n",
              "        (1): ReLU()\n",
              "        (2): Conv2d(32, 96, kernel_size=(3, 3), stride=(1, 1), padding=(1, 1))\n",
              "        (3): ReLU()\n",
              "      )\n",
              "      (branch4): Sequential(\n",
              "        (0): MaxPool2d(kernel_size=3, stride=1, padding=1, dilation=1, ceil_mode=False)\n",
              "        (1): Conv2d(256, 64, kernel_size=(1, 1), stride=(1, 1))\n",
              "        (2): ReLU()\n",
              "      )\n",
              "    )\n",
              "    (2): MaxPool2d(kernel_size=3, stride=2, padding=1, dilation=1, ceil_mode=False)\n",
              "  )\n",
              "  (b4): Sequential(\n",
              "    (0): Inception(\n",
              "      (branch1): Sequential(\n",
              "        (0): Conv2d(256, 96, kernel_size=(1, 1), stride=(1, 1))\n",
              "        (1): ReLU()\n",
              "      )\n",
              "      (branch2): Sequential(\n",
              "        (0): Conv2d(256, 96, kernel_size=(1, 1), stride=(1, 1))\n",
              "        (1): ReLU()\n",
              "        (2): Conv2d(96, 208, kernel_size=(3, 3), stride=(1, 1), padding=(1, 1))\n",
              "        (3): ReLU()\n",
              "      )\n",
              "      (branch3): Sequential(\n",
              "        (0): Conv2d(256, 16, kernel_size=(1, 1), stride=(1, 1))\n",
              "        (1): ReLU()\n",
              "        (2): Conv2d(16, 48, kernel_size=(3, 3), stride=(1, 1), padding=(1, 1))\n",
              "        (3): ReLU()\n",
              "      )\n",
              "      (branch4): Sequential(\n",
              "        (0): MaxPool2d(kernel_size=3, stride=1, padding=1, dilation=1, ceil_mode=False)\n",
              "        (1): Conv2d(256, 64, kernel_size=(1, 1), stride=(1, 1))\n",
              "        (2): ReLU()\n",
              "      )\n",
              "    )\n",
              "    (1): Inception(\n",
              "      (branch1): Sequential(\n",
              "        (0): Conv2d(256, 112, kernel_size=(1, 1), stride=(1, 1))\n",
              "        (1): ReLU()\n",
              "      )\n",
              "      (branch2): Sequential(\n",
              "        (0): Conv2d(256, 112, kernel_size=(1, 1), stride=(1, 1))\n",
              "        (1): ReLU()\n",
              "        (2): Conv2d(112, 224, kernel_size=(3, 3), stride=(1, 1), padding=(1, 1))\n",
              "        (3): ReLU()\n",
              "      )\n",
              "      (branch3): Sequential(\n",
              "        (0): Conv2d(256, 24, kernel_size=(1, 1), stride=(1, 1))\n",
              "        (1): ReLU()\n",
              "        (2): Conv2d(24, 64, kernel_size=(3, 3), stride=(1, 1), padding=(1, 1))\n",
              "        (3): ReLU()\n",
              "      )\n",
              "      (branch4): Sequential(\n",
              "        (0): MaxPool2d(kernel_size=3, stride=1, padding=1, dilation=1, ceil_mode=False)\n",
              "        (1): Conv2d(256, 64, kernel_size=(1, 1), stride=(1, 1))\n",
              "        (2): ReLU()\n",
              "      )\n",
              "    )\n",
              "    (2): Inception(\n",
              "      (branch1): Sequential(\n",
              "        (0): Conv2d(256, 128, kernel_size=(1, 1), stride=(1, 1))\n",
              "        (1): ReLU()\n",
              "      )\n",
              "      (branch2): Sequential(\n",
              "        (0): Conv2d(256, 128, kernel_size=(1, 1), stride=(1, 1))\n",
              "        (1): ReLU()\n",
              "        (2): Conv2d(128, 256, kernel_size=(3, 3), stride=(1, 1), padding=(1, 1))\n",
              "        (3): ReLU()\n",
              "      )\n",
              "      (branch3): Sequential(\n",
              "        (0): Conv2d(256, 24, kernel_size=(1, 1), stride=(1, 1))\n",
              "        (1): ReLU()\n",
              "        (2): Conv2d(24, 64, kernel_size=(3, 3), stride=(1, 1), padding=(1, 1))\n",
              "        (3): ReLU()\n",
              "      )\n",
              "      (branch4): Sequential(\n",
              "        (0): MaxPool2d(kernel_size=3, stride=1, padding=1, dilation=1, ceil_mode=False)\n",
              "        (1): Conv2d(256, 64, kernel_size=(1, 1), stride=(1, 1))\n",
              "        (2): ReLU()\n",
              "      )\n",
              "    )\n",
              "    (3): Inception(\n",
              "      (branch1): Sequential(\n",
              "        (0): Conv2d(256, 144, kernel_size=(1, 1), stride=(1, 1))\n",
              "        (1): ReLU()\n",
              "      )\n",
              "      (branch2): Sequential(\n",
              "        (0): Conv2d(256, 144, kernel_size=(1, 1), stride=(1, 1))\n",
              "        (1): ReLU()\n",
              "        (2): Conv2d(144, 288, kernel_size=(3, 3), stride=(1, 1), padding=(1, 1))\n",
              "        (3): ReLU()\n",
              "      )\n",
              "      (branch3): Sequential(\n",
              "        (0): Conv2d(256, 32, kernel_size=(1, 1), stride=(1, 1))\n",
              "        (1): ReLU()\n",
              "        (2): Conv2d(32, 64, kernel_size=(3, 3), stride=(1, 1), padding=(1, 1))\n",
              "        (3): ReLU()\n",
              "      )\n",
              "      (branch4): Sequential(\n",
              "        (0): MaxPool2d(kernel_size=3, stride=1, padding=1, dilation=1, ceil_mode=False)\n",
              "        (1): Conv2d(256, 64, kernel_size=(1, 1), stride=(1, 1))\n",
              "        (2): ReLU()\n",
              "      )\n",
              "    )\n",
              "    (4): Inception(\n",
              "      (branch1): Sequential(\n",
              "        (0): Conv2d(256, 160, kernel_size=(1, 1), stride=(1, 1))\n",
              "        (1): ReLU()\n",
              "      )\n",
              "      (branch2): Sequential(\n",
              "        (0): Conv2d(256, 160, kernel_size=(1, 1), stride=(1, 1))\n",
              "        (1): ReLU()\n",
              "        (2): Conv2d(160, 320, kernel_size=(3, 3), stride=(1, 1), padding=(1, 1))\n",
              "        (3): ReLU()\n",
              "      )\n",
              "      (branch3): Sequential(\n",
              "        (0): Conv2d(256, 32, kernel_size=(1, 1), stride=(1, 1))\n",
              "        (1): ReLU()\n",
              "        (2): Conv2d(32, 128, kernel_size=(3, 3), stride=(1, 1), padding=(1, 1))\n",
              "        (3): ReLU()\n",
              "      )\n",
              "      (branch4): Sequential(\n",
              "        (0): MaxPool2d(kernel_size=3, stride=1, padding=1, dilation=1, ceil_mode=False)\n",
              "        (1): Conv2d(256, 128, kernel_size=(1, 1), stride=(1, 1))\n",
              "        (2): ReLU()\n",
              "      )\n",
              "    )\n",
              "    (5): MaxPool2d(kernel_size=3, stride=2, padding=1, dilation=1, ceil_mode=False)\n",
              "  )\n",
              "  (b5): Sequential(\n",
              "    (0): Inception(\n",
              "      (branch1): Sequential(\n",
              "        (0): Conv2d(256, 160, kernel_size=(1, 1), stride=(1, 1))\n",
              "        (1): ReLU()\n",
              "      )\n",
              "      (branch2): Sequential(\n",
              "        (0): Conv2d(256, 160, kernel_size=(1, 1), stride=(1, 1))\n",
              "        (1): ReLU()\n",
              "        (2): Conv2d(160, 320, kernel_size=(3, 3), stride=(1, 1), padding=(1, 1))\n",
              "        (3): ReLU()\n",
              "      )\n",
              "      (branch3): Sequential(\n",
              "        (0): Conv2d(256, 32, kernel_size=(1, 1), stride=(1, 1))\n",
              "        (1): ReLU()\n",
              "        (2): Conv2d(32, 128, kernel_size=(3, 3), stride=(1, 1), padding=(1, 1))\n",
              "        (3): ReLU()\n",
              "      )\n",
              "      (branch4): Sequential(\n",
              "        (0): MaxPool2d(kernel_size=3, stride=1, padding=1, dilation=1, ceil_mode=False)\n",
              "        (1): Conv2d(256, 128, kernel_size=(1, 1), stride=(1, 1))\n",
              "        (2): ReLU()\n",
              "      )\n",
              "    )\n",
              "    (1): Inception(\n",
              "      (branch1): Sequential(\n",
              "        (0): Conv2d(384, 192, kernel_size=(1, 1), stride=(1, 1))\n",
              "        (1): ReLU()\n",
              "      )\n",
              "      (branch2): Sequential(\n",
              "        (0): Conv2d(384, 192, kernel_size=(1, 1), stride=(1, 1))\n",
              "        (1): ReLU()\n",
              "        (2): Conv2d(192, 384, kernel_size=(3, 3), stride=(1, 1), padding=(1, 1))\n",
              "        (3): ReLU()\n",
              "      )\n",
              "      (branch3): Sequential(\n",
              "        (0): Conv2d(384, 48, kernel_size=(1, 1), stride=(1, 1))\n",
              "        (1): ReLU()\n",
              "        (2): Conv2d(48, 128, kernel_size=(3, 3), stride=(1, 1), padding=(1, 1))\n",
              "        (3): ReLU()\n",
              "      )\n",
              "      (branch4): Sequential(\n",
              "        (0): MaxPool2d(kernel_size=3, stride=1, padding=1, dilation=1, ceil_mode=False)\n",
              "        (1): Conv2d(384, 128, kernel_size=(1, 1), stride=(1, 1))\n",
              "        (2): ReLU()\n",
              "      )\n",
              "    )\n",
              "    (2): AdaptiveAvgPool2d(output_size=(1, 1))\n",
              "  )\n",
              "  (fc): Linear(in_features=1024, out_features=10, bias=True)\n",
              ")"
            ]
          },
          "execution_count": 18,
          "metadata": {},
          "output_type": "execute_result"
        }
      ],
      "source": [
        "gg_model.apply(init_cnn_he)"
      ]
    },
    {
      "cell_type": "code",
      "execution_count": null,
      "metadata": {
        "id": "aQvvoCjZSMzp"
      },
      "outputs": [],
      "source": [
        "loss_fn = nn.CrossEntropyLoss()\n",
        "optimizer = torch.optim.SGD(gg_model.parameters(), lr = 0.1)"
      ]
    },
    {
      "cell_type": "code",
      "execution_count": null,
      "metadata": {
        "colab": {
          "base_uri": "https://localhost:8080/"
        },
        "id": "yp2qXZ5BSUvX",
        "outputId": "41206f03-90ce-4bbe-e919-f73e29928b08"
      },
      "outputs": [
        {
          "data": {
            "text/plain": [
              "PosixPath('models/gg.pth')"
            ]
          },
          "execution_count": 20,
          "metadata": {},
          "output_type": "execute_result"
        }
      ],
      "source": [
        "#Create save path\n",
        "MODEL_NAME = \"gg.pth\"\n",
        "\n",
        "MODEL_SAVE_PATH = MODEL_PATH/MODEL_NAME\n",
        "\n",
        "MODEL_SAVE_PATH"
      ]
    },
    {
      "cell_type": "code",
      "execution_count": null,
      "metadata": {
        "colab": {
          "base_uri": "https://localhost:8080/",
          "height": 158
        },
        "id": "ctvHuxxySelW",
        "outputId": "8f28f36e-51e5-41ee-d6bf-d13b10a11e25"
      },
      "outputs": [
        {
          "ename": "NameError",
          "evalue": "name 'NiN_model' is not defined",
          "output_type": "error",
          "traceback": [
            "\u001b[0;31m---------------------------------------------------------------------------\u001b[0m",
            "\u001b[0;31mNameError\u001b[0m                                 Traceback (most recent call last)",
            "\u001b[0;32m<ipython-input-21-43284a403159>\u001b[0m in \u001b[0;36m<cell line: 0>\u001b[0;34m()\u001b[0m\n\u001b[0;32m----> 1\u001b[0;31m \u001b[0m_\u001b[0m\u001b[0;34m,\u001b[0m \u001b[0mbest_acc\u001b[0m \u001b[0;34m=\u001b[0m \u001b[0meval_model\u001b[0m\u001b[0;34m(\u001b[0m\u001b[0mNiN_model\u001b[0m\u001b[0;34m,\u001b[0m \u001b[0mtest_dataloader\u001b[0m\u001b[0;34m,\u001b[0m \u001b[0mloss_fn\u001b[0m\u001b[0;34m,\u001b[0m \u001b[0maccuracy_fn\u001b[0m\u001b[0;34m,\u001b[0m \u001b[0mdevice\u001b[0m \u001b[0;34m)\u001b[0m\u001b[0;34m\u001b[0m\u001b[0;34m\u001b[0m\u001b[0m\n\u001b[0m\u001b[1;32m      2\u001b[0m \u001b[0mbest_acc\u001b[0m\u001b[0;34m\u001b[0m\u001b[0;34m\u001b[0m\u001b[0m\n",
            "\u001b[0;31mNameError\u001b[0m: name 'NiN_model' is not defined"
          ]
        }
      ],
      "source": [
        "_, best_acc = eval_model(gg_model, test_dataloader, loss_fn, accuracy_fn, device )\n",
        "best_acc\n"
      ]
    },
    {
      "cell_type": "code",
      "execution_count": null,
      "metadata": {
        "id": "VPOlN_c3SirW"
      },
      "outputs": [],
      "source": [
        "train, test = train_test_model(gg_model, train_dataloader,\n",
        "                 test_dataloader,loss_fn, accuracy_fn, optimizer,MODEL_SAVE_PATH,\n",
        "                22, device, best_acc)"
      ]
    },
    {
      "cell_type": "markdown",
      "metadata": {
        "id": "fTL9cjTvUo5I"
      },
      "source": [
        "### residual block from resnet"
      ]
    },
    {
      "cell_type": "code",
      "execution_count": null,
      "metadata": {
        "id": "4JAt5rxrUr-m"
      },
      "outputs": [],
      "source": [
        "class residual_block(nn.Module):\n",
        "  def __init__(self, input_channels, output_channels,stride = 1, use_1x1conv=False):\n",
        "    super().__init__()\n",
        "    self.use_1x1conv = use_1x1conv\n",
        "    self.l1 = nn.Sequential(\n",
        "        nn.Conv2d(in_channels=input_channels,out_channels=output_channels, padding = 1, kernel_size = 3, stride = stride),\n",
        "        nn.BatchNorm2d(output_channels),\n",
        "        nn.ReLU()\n",
        "    )\n",
        "    self.l2 = nn.Sequential(\n",
        "        nn.Conv2d(in_channels = output_channels,out_channels = output_channels, padding = 1,\n",
        "                  kernel_size = 3\n",
        "                  ,stride = 1),\n",
        "        nn.BatchNorm2d(output_channels)\n",
        "    )\n",
        "    if use_1x1conv:\n",
        "      self.l3 = nn.Conv2d(in_channels=input_channels,out_channels = output_channels,  kernel_size =1\n",
        "                          ,stride = stride)\n",
        "\n",
        "  def forward(self, X):\n",
        "    A = self.l1(X)\n",
        "    A = self.l2(A)\n",
        "    if self.use_1x1conv:\n",
        "      X = self.l3(X)\n",
        "    return F.relu(A + X)"
      ]
    },
    {
      "cell_type": "code",
      "execution_count": null,
      "metadata": {
        "id": "NUL4-KqsaVsU"
      },
      "outputs": [],
      "source": [
        "class Res_Net(nn.Module):\n",
        "  def __init__(self, input, output):\n",
        "    super().__init__()\n",
        "    self.conv_1 = nn.Sequential(\n",
        "        nn.Conv2d(in_channels=input, out_channels=16, kernel_size=3, padding = 1),\n",
        "        nn.BatchNorm2d(16),\n",
        "        nn.ReLU()\n",
        "    )\n",
        "    self.res_1 = nn.Sequential(residual_block(16, 16), residual_block(16,16))\n",
        "    self.res_2 = nn.Sequential(\n",
        "        residual_block(16, 32, stride = 2, use_1x1conv=True),\n",
        "        residual_block(32, 32)\n",
        "    )\n",
        "    self.res_3 = nn.Sequential(\n",
        "        residual_block(32, 64, stride = 2, use_1x1conv=True),\n",
        "        residual_block(64, 64)\n",
        "    )\n",
        "    self.avg_pool = nn.AdaptiveAvgPool2d(1)\n",
        "    self.flatten = nn.Flatten()\n",
        "    self.fc = nn.Linear(64, output)\n",
        "  def forward(self, X):\n",
        "    X = self.conv_1(X)\n",
        "    X = self.res_1(X)\n",
        "    X = self.res_2(X)\n",
        "    X = self.res_3(X)\n",
        "    return self.fc(self.flatten(self.avg_pool(X)))\n"
      ]
    },
    {
      "cell_type": "code",
      "source": [
        "model_res = Res_Net(3, len(class_names))"
      ],
      "metadata": {
        "id": "UPnPR1qSbD0u"
      },
      "execution_count": null,
      "outputs": []
    },
    {
      "cell_type": "code",
      "source": [
        "dummy_input = torch.rand((1,3,32,32))\n",
        "model_res(dummy_input)"
      ],
      "metadata": {
        "colab": {
          "base_uri": "https://localhost:8080/"
        },
        "id": "o2L1D01BbPrX",
        "outputId": "c863fe0d-42b2-4a56-ad5f-7567ebb369f6"
      },
      "execution_count": null,
      "outputs": [
        {
          "output_type": "execute_result",
          "data": {
            "text/plain": [
              "tensor([[-0.1633,  0.4888, -0.5030, -0.0057,  0.1374, -0.0061, -1.2244,  0.4070,\n",
              "          1.1562,  0.7367]], grad_fn=<AddmmBackward0>)"
            ]
          },
          "metadata": {},
          "execution_count": 21
        }
      ]
    },
    {
      "cell_type": "code",
      "source": [
        "model_res.apply(init_cnn_he)"
      ],
      "metadata": {
        "colab": {
          "base_uri": "https://localhost:8080/"
        },
        "id": "Dri76btYbd2P",
        "outputId": "1797112d-2359-42f7-d75f-bdb4da4f30ae"
      },
      "execution_count": null,
      "outputs": [
        {
          "output_type": "execute_result",
          "data": {
            "text/plain": [
              "Res_Net(\n",
              "  (conv_1): Sequential(\n",
              "    (0): Conv2d(3, 16, kernel_size=(3, 3), stride=(1, 1), padding=(1, 1))\n",
              "    (1): BatchNorm2d(16, eps=1e-05, momentum=0.1, affine=True, track_running_stats=True)\n",
              "    (2): ReLU()\n",
              "  )\n",
              "  (res_1): Sequential(\n",
              "    (0): residual_block(\n",
              "      (l1): Sequential(\n",
              "        (0): Conv2d(16, 16, kernel_size=(3, 3), stride=(1, 1), padding=(1, 1))\n",
              "        (1): BatchNorm2d(16, eps=1e-05, momentum=0.1, affine=True, track_running_stats=True)\n",
              "        (2): ReLU()\n",
              "      )\n",
              "      (l2): Sequential(\n",
              "        (0): Conv2d(16, 16, kernel_size=(3, 3), stride=(1, 1), padding=(1, 1))\n",
              "        (1): BatchNorm2d(16, eps=1e-05, momentum=0.1, affine=True, track_running_stats=True)\n",
              "      )\n",
              "    )\n",
              "    (1): residual_block(\n",
              "      (l1): Sequential(\n",
              "        (0): Conv2d(16, 16, kernel_size=(3, 3), stride=(1, 1), padding=(1, 1))\n",
              "        (1): BatchNorm2d(16, eps=1e-05, momentum=0.1, affine=True, track_running_stats=True)\n",
              "        (2): ReLU()\n",
              "      )\n",
              "      (l2): Sequential(\n",
              "        (0): Conv2d(16, 16, kernel_size=(3, 3), stride=(1, 1), padding=(1, 1))\n",
              "        (1): BatchNorm2d(16, eps=1e-05, momentum=0.1, affine=True, track_running_stats=True)\n",
              "      )\n",
              "    )\n",
              "  )\n",
              "  (res_2): Sequential(\n",
              "    (0): residual_block(\n",
              "      (l1): Sequential(\n",
              "        (0): Conv2d(16, 32, kernel_size=(3, 3), stride=(2, 2), padding=(1, 1))\n",
              "        (1): BatchNorm2d(32, eps=1e-05, momentum=0.1, affine=True, track_running_stats=True)\n",
              "        (2): ReLU()\n",
              "      )\n",
              "      (l2): Sequential(\n",
              "        (0): Conv2d(32, 32, kernel_size=(3, 3), stride=(1, 1), padding=(1, 1))\n",
              "        (1): BatchNorm2d(32, eps=1e-05, momentum=0.1, affine=True, track_running_stats=True)\n",
              "      )\n",
              "      (l3): Conv2d(16, 32, kernel_size=(1, 1), stride=(2, 2))\n",
              "    )\n",
              "    (1): residual_block(\n",
              "      (l1): Sequential(\n",
              "        (0): Conv2d(32, 32, kernel_size=(3, 3), stride=(1, 1), padding=(1, 1))\n",
              "        (1): BatchNorm2d(32, eps=1e-05, momentum=0.1, affine=True, track_running_stats=True)\n",
              "        (2): ReLU()\n",
              "      )\n",
              "      (l2): Sequential(\n",
              "        (0): Conv2d(32, 32, kernel_size=(3, 3), stride=(1, 1), padding=(1, 1))\n",
              "        (1): BatchNorm2d(32, eps=1e-05, momentum=0.1, affine=True, track_running_stats=True)\n",
              "      )\n",
              "    )\n",
              "  )\n",
              "  (res_3): Sequential(\n",
              "    (0): residual_block(\n",
              "      (l1): Sequential(\n",
              "        (0): Conv2d(32, 64, kernel_size=(3, 3), stride=(2, 2), padding=(1, 1))\n",
              "        (1): BatchNorm2d(64, eps=1e-05, momentum=0.1, affine=True, track_running_stats=True)\n",
              "        (2): ReLU()\n",
              "      )\n",
              "      (l2): Sequential(\n",
              "        (0): Conv2d(64, 64, kernel_size=(3, 3), stride=(1, 1), padding=(1, 1))\n",
              "        (1): BatchNorm2d(64, eps=1e-05, momentum=0.1, affine=True, track_running_stats=True)\n",
              "      )\n",
              "      (l3): Conv2d(32, 64, kernel_size=(1, 1), stride=(2, 2))\n",
              "    )\n",
              "    (1): residual_block(\n",
              "      (l1): Sequential(\n",
              "        (0): Conv2d(64, 64, kernel_size=(3, 3), stride=(1, 1), padding=(1, 1))\n",
              "        (1): BatchNorm2d(64, eps=1e-05, momentum=0.1, affine=True, track_running_stats=True)\n",
              "        (2): ReLU()\n",
              "      )\n",
              "      (l2): Sequential(\n",
              "        (0): Conv2d(64, 64, kernel_size=(3, 3), stride=(1, 1), padding=(1, 1))\n",
              "        (1): BatchNorm2d(64, eps=1e-05, momentum=0.1, affine=True, track_running_stats=True)\n",
              "      )\n",
              "    )\n",
              "  )\n",
              "  (avg_pool): AdaptiveAvgPool2d(output_size=1)\n",
              "  (flatten): Flatten(start_dim=1, end_dim=-1)\n",
              "  (fc): Linear(in_features=64, out_features=10, bias=True)\n",
              ")"
            ]
          },
          "metadata": {},
          "execution_count": 22
        }
      ]
    },
    {
      "cell_type": "code",
      "source": [
        "loss_fn = nn.CrossEntropyLoss()\n",
        "optimizer = torch.optim.SGD(model_res.parameters(), lr = 0.1)"
      ],
      "metadata": {
        "id": "hjtu2DzAbqlQ"
      },
      "execution_count": null,
      "outputs": []
    },
    {
      "cell_type": "code",
      "source": [
        "#Create save path\n",
        "MODEL_NAME = \"res.pth\"\n",
        "\n",
        "MODEL_SAVE_PATH = MODEL_PATH/MODEL_NAME\n",
        "\n",
        "MODEL_SAVE_PATH"
      ],
      "metadata": {
        "colab": {
          "base_uri": "https://localhost:8080/"
        },
        "id": "dAdr0CuWbxld",
        "outputId": "b06aeb55-d82e-4a1b-b18d-be08a8fb4e3e"
      },
      "execution_count": null,
      "outputs": [
        {
          "output_type": "execute_result",
          "data": {
            "text/plain": [
              "PosixPath('models/res.pth')"
            ]
          },
          "metadata": {},
          "execution_count": 24
        }
      ]
    },
    {
      "cell_type": "code",
      "source": [
        "_, best_acc = eval_model(model_res, test_dataloader, loss_fn, accuracy_fn, device )\n",
        "best_acc\n"
      ],
      "metadata": {
        "colab": {
          "base_uri": "https://localhost:8080/"
        },
        "id": "saTZCgUjb2-a",
        "outputId": "284a5208-d67d-4c7c-9ce9-9bad2e6b6279"
      },
      "execution_count": null,
      "outputs": [
        {
          "output_type": "execute_result",
          "data": {
            "text/plain": [
              "10.033945686900958"
            ]
          },
          "metadata": {},
          "execution_count": 25
        }
      ]
    },
    {
      "cell_type": "code",
      "source": [
        "train, test = train_test_model(model_res, train_dataloader,\n",
        "                 test_dataloader,loss_fn, accuracy_fn, optimizer,MODEL_SAVE_PATH,\n",
        "                22, device, best_acc)"
      ],
      "metadata": {
        "colab": {
          "base_uri": "https://localhost:8080/",
          "height": 572,
          "referenced_widgets": [
            "db50e7639d124ac497f8195aef146ba2",
            "889a6f59834d4dcd8b9b26001d065967",
            "1446b853cfb64371abc8b726dc8ba822",
            "c9357834251744319d20a620430c01d2",
            "67deee0c0bee4e5583fca8e7e73775a6",
            "300f65e601084e4eb82066f88f636832",
            "cff57f408c1e472f99a4ff68c228c77d",
            "d0a7a32394f2493fa087ad75be39bf21",
            "11fe1e28faa94db4b809ffd501b573f7",
            "f757cf8294784aa4bc51b60e3ff45fad",
            "76516bfc484345e7a65c6309f44c5109"
          ]
        },
        "id": "mBaHCyKkb8Qx",
        "outputId": "364b7b3a-a983-4d0f-c25a-ac9f4395372c"
      },
      "execution_count": null,
      "outputs": [
        {
          "output_type": "display_data",
          "data": {
            "text/plain": [
              "  0%|          | 0/22 [00:00<?, ?it/s]"
            ],
            "application/vnd.jupyter.widget-view+json": {
              "version_major": 2,
              "version_minor": 0,
              "model_id": "db50e7639d124ac497f8195aef146ba2"
            }
          },
          "metadata": {}
        },
        {
          "output_type": "stream",
          "name": "stdout",
          "text": [
            "model tốt đấy, lưu nhé\n",
            "Epoch: 0 | Train loss: 1.3977011442184448 | Train accuracy: 48.83837172104926 | Test loss: 1.2325575351715088 | Test_acc: 56.409744408945684\n",
            "model tốt đấy, lưu nhé\n",
            "Epoch: 1 | Train loss: 0.9842886328697205 | Train accuracy: 65.01919385796545 | Test loss: 0.8925617337226868 | Test_acc: 68.14097444089457\n",
            "model tốt đấy, lưu nhé\n",
            "Epoch: 2 | Train loss: 0.8075636029243469 | Train accuracy: 71.5331094049904 | Test loss: 0.8668707013130188 | Test_acc: 68.95966453674122\n",
            "model tốt đấy, lưu nhé\n",
            "Epoch: 3 | Train loss: 0.6952085494995117 | Train accuracy: 75.63579654510556 | Test loss: 0.8066873550415039 | Test_acc: 72.04472843450479\n",
            "Epoch: 4 | Train loss: 0.6189029812812805 | Train accuracy: 78.4848848368522 | Test loss: 0.8589537143707275 | Test_acc: 69.76837060702876\n",
            "model tốt đấy, lưu nhé\n",
            "Epoch: 5 | Train loss: 0.5527417063713074 | Train accuracy: 80.64219449776071 | Test loss: 0.6678000688552856 | Test_acc: 77.23642172523962\n",
            "Epoch: 6 | Train loss: 0.5035355687141418 | Train accuracy: 82.31965770953295 | Test loss: 0.8853144645690918 | Test_acc: 70.77675718849841\n",
            "Epoch: 7 | Train loss: 0.4609321057796478 | Train accuracy: 84.05710172744722 | Test loss: 0.696399986743927 | Test_acc: 77.11661341853035\n",
            "Epoch: 8 | Train loss: 0.4213882386684418 | Train accuracy: 85.406669865643 | Test loss: 1.0537437200546265 | Test_acc: 69.20926517571885\n",
            "Epoch: 9 | Train loss: 0.382516086101532 | Train accuracy: 86.57629558541267 | Test loss: 0.879328727722168 | Test_acc: 73.23282747603834\n",
            "Epoch: 10 | Train loss: 0.34906303882598877 | Train accuracy: 87.56797824696098 | Test loss: 0.8148380517959595 | Test_acc: 74.95007987220447\n",
            "Epoch: 11 | Train loss: 0.32049721479415894 | Train accuracy: 88.58365323096609 | Test loss: 0.8803948760032654 | Test_acc: 74.29113418530352\n",
            "model tốt đấy, lưu nhé\n",
            "Epoch: 12 | Train loss: 0.293118417263031 | Train accuracy: 89.71529110684581 | Test loss: 0.7180848717689514 | Test_acc: 77.84544728434504\n",
            "model tốt đấy, lưu nhé\n",
            "Epoch: 13 | Train loss: 0.2696898281574249 | Train accuracy: 90.3930742162508 | Test loss: 0.7008715867996216 | Test_acc: 79.43290734824281\n",
            "Epoch: 14 | Train loss: 0.24544954299926758 | Train accuracy: 91.25279910428662 | Test loss: 0.8118830323219299 | Test_acc: 76.51757188498402\n",
            "Epoch: 15 | Train loss: 0.22901122272014618 | Train accuracy: 91.72864683301344 | Test loss: 0.9427999258041382 | Test_acc: 75.16972843450479\n",
            "Epoch: 16 | Train loss: 0.2181103229522705 | Train accuracy: 92.29046705054382 | Test loss: 0.7838412523269653 | Test_acc: 78.64416932907348\n",
            "Epoch: 17 | Train loss: 0.18806234002113342 | Train accuracy: 93.34812859884836 | Test loss: 0.9179726243019104 | Test_acc: 75.64896166134186\n",
            "Epoch: 18 | Train loss: 0.17421169579029083 | Train accuracy: 93.81797824696098 | Test loss: 0.8294318914413452 | Test_acc: 78.15495207667732\n",
            "Epoch: 19 | Train loss: 0.16475313901901245 | Train accuracy: 94.07989443378119 | Test loss: 0.8478204011917114 | Test_acc: 78.83386581469648\n",
            "Epoch: 20 | Train loss: 0.15090376138687134 | Train accuracy: 94.70169545745361 | Test loss: 0.8470669388771057 | Test_acc: 78.75399361022365\n",
            "Epoch: 21 | Train loss: 0.14518950879573822 | Train accuracy: 94.77767114523353 | Test loss: 0.8821700811386108 | Test_acc: 78.44448881789137\n"
          ]
        }
      ]
    },
    {
      "cell_type": "markdown",
      "source": [
        "###DenseNet"
      ],
      "metadata": {
        "id": "KPs1-AxlcDvb"
      }
    },
    {
      "cell_type": "code",
      "source": [
        "class DenseBlock(nn.Module):\n",
        "  def __init__(self, num_layers, in_channels, growth_rate ):\n",
        "    super().__init__()\n",
        "    self.layers = nn.ModuleList()\n",
        "\n",
        "    for i in range(num_layers):\n",
        "      layer_in_channels = in_channels + i * growth_rate\n",
        "      self.layers.append(self._make_layer(layer_in_channels, growth_rate))\n",
        "  def _make_layer(self, in_channels, growth_rate):\n",
        "    return nn.Sequential(\n",
        "        nn.BatchNorm2d(in_channels),\n",
        "        nn.ReLU(),\n",
        "        nn.Conv2d(in_channels, growth_rate, kernel_size=3, padding = 1, bias = False)\n",
        "    )\n",
        "  def forward(self, X):\n",
        "    features = [X]\n",
        "    for layer in self.layers:\n",
        "      new_feature = layer(torch.cat(features,dim=1))\n",
        "      features.append(new_feature)\n",
        "    return torch.cat(features, dim=1)"
      ],
      "metadata": {
        "id": "j8klxeYNeB3d"
      },
      "execution_count": 12,
      "outputs": []
    },
    {
      "cell_type": "code",
      "source": [
        "class TransitionLayer(nn.Module):\n",
        "  def __init__(self, in_channels, out_channels):\n",
        "    super().__init__()\n",
        "    self.conv = nn.Sequential(\n",
        "        nn.BatchNorm2d(in_channels),\n",
        "        nn.ReLU(),\n",
        "        nn.Conv2d(in_channels, out_channels, kernel_size=1 )\n",
        "    )\n",
        "    self.pool = nn.AvgPool2d(kernel_size=2, stride=2)\n",
        "\n",
        "  def forward(self, X):\n",
        "    return self.pool(self.conv(X))\n"
      ],
      "metadata": {
        "id": "fn8IPRA3gR8x"
      },
      "execution_count": 13,
      "outputs": []
    },
    {
      "cell_type": "code",
      "source": [
        "class DenseNet(nn.Module):\n",
        "  def __init__(self, in_channels, num_classes, growth_rate= 12):\n",
        "    super().__init__()\n",
        "    self.conv1 = nn.Sequential(\n",
        "        nn.Conv2d(in_channels, 16, kernel_size=3, padding = 1),\n",
        "        nn.BatchNorm2d(16),\n",
        "        nn.ReLU(inplace=True)\n",
        "    )\n",
        "    self.dense1 = DenseBlock(num_layers=2, in_channels=16, growth_rate=growth_rate)\n",
        "    self.trans1 = TransitionLayer(in_channels=16 + 2 * growth_rate, out_channels=32)\n",
        "\n",
        "        # DenseBlock 2 (32 → 32+2*growth_rate)\n",
        "    self.dense2 = DenseBlock(num_layers=2, in_channels=32, growth_rate=growth_rate)\n",
        "    self.trans2 = TransitionLayer(in_channels=32 + 2 * growth_rate, out_channels=64)\n",
        "\n",
        "        # DenseBlock 3 (64 → 64+2*growth_rate)\n",
        "    self.dense3 = DenseBlock(num_layers=2, in_channels=64, growth_rate=growth_rate)\n",
        "\n",
        "        # Avg Pool + Fully Connected Layer\n",
        "    self.avg_pool = nn.AdaptiveAvgPool2d(1)\n",
        "    self.fc = nn.Linear(64 + 2 * growth_rate, num_classes)\n",
        "  def forward(self, x):\n",
        "          x = self.conv1(x)\n",
        "          x = self.dense1(x)\n",
        "          x = self.trans1(x)\n",
        "          x = self.dense2(x)\n",
        "          x = self.trans2(x)\n",
        "          x = self.dense3(x)\n",
        "          x = self.avg_pool(x)\n",
        "          x = torch.flatten(x, 1)\n",
        "          return self.fc(x)\n"
      ],
      "metadata": {
        "id": "3Rf4XT3KhuRw"
      },
      "execution_count": 14,
      "outputs": []
    },
    {
      "cell_type": "code",
      "source": [
        "dense_model = DenseNet(3, len(class_names))"
      ],
      "metadata": {
        "id": "n0EreNrAyewH"
      },
      "execution_count": 15,
      "outputs": []
    },
    {
      "cell_type": "code",
      "source": [
        "dummy_input = torch.rand((1,3,32,32))\n",
        "dense_model(dummy_input)"
      ],
      "metadata": {
        "colab": {
          "base_uri": "https://localhost:8080/"
        },
        "id": "ImAWhQY1yq2P",
        "outputId": "8f115fdf-b93b-4ebe-fb7c-9b91f05b7534"
      },
      "execution_count": 16,
      "outputs": [
        {
          "output_type": "execute_result",
          "data": {
            "text/plain": [
              "tensor([[ 0.1789,  0.0432, -0.0860, -0.2721, -0.0899,  0.3493, -0.1925, -0.1710,\n",
              "         -0.0654, -0.0503]], grad_fn=<AddmmBackward0>)"
            ]
          },
          "metadata": {},
          "execution_count": 16
        }
      ]
    },
    {
      "cell_type": "code",
      "source": [
        "loss_fn = nn.CrossEntropyLoss()\n",
        "optimizer = torch.optim.SGD(dense_model.parameters(), lr = 0.1)"
      ],
      "metadata": {
        "id": "UjYf9Q_yyzSq"
      },
      "execution_count": 17,
      "outputs": []
    },
    {
      "cell_type": "code",
      "source": [
        "#Create save path\n",
        "MODEL_NAME = \"dense.pth\"\n",
        "\n",
        "MODEL_SAVE_PATH = MODEL_PATH/MODEL_NAME\n",
        "\n",
        "MODEL_SAVE_PATH"
      ],
      "metadata": {
        "colab": {
          "base_uri": "https://localhost:8080/"
        },
        "id": "L2PFUxmYy4D-",
        "outputId": "a6daeae1-75cc-47d0-e3ed-bdbd3f107c44"
      },
      "execution_count": 18,
      "outputs": [
        {
          "output_type": "execute_result",
          "data": {
            "text/plain": [
              "PosixPath('models/dense.pth')"
            ]
          },
          "metadata": {},
          "execution_count": 18
        }
      ]
    },
    {
      "cell_type": "code",
      "source": [
        "_, best_acc = eval_model(dense_model, test_dataloader, loss_fn, accuracy_fn, device )\n",
        "best_acc\n"
      ],
      "metadata": {
        "colab": {
          "base_uri": "https://localhost:8080/"
        },
        "id": "oA0y16bky_Te",
        "outputId": "5b561099-4e91-4f29-e00b-9b448a2d9311"
      },
      "execution_count": 19,
      "outputs": [
        {
          "output_type": "execute_result",
          "data": {
            "text/plain": [
              "10.013977635782748"
            ]
          },
          "metadata": {},
          "execution_count": 19
        }
      ]
    },
    {
      "cell_type": "code",
      "source": [
        "train, test = train_test_model(dense_model, train_dataloader,\n",
        "                 test_dataloader,loss_fn, accuracy_fn, optimizer,MODEL_SAVE_PATH,\n",
        "                22, device, best_acc)"
      ],
      "metadata": {
        "colab": {
          "base_uri": "https://localhost:8080/",
          "height": 642,
          "referenced_widgets": [
            "8bd3003258e146aeae244bb68a346232",
            "2a5322adc983449ab8ac5f77cf8b1690",
            "5fc5e2770bfb457f8c3f24983a8e8e9d",
            "5b98d62c7f00420091eca90a309dae3c",
            "f5ded7a83dd14ce5b1299ca4bfff90b9",
            "f6e06523e6134805bcc39ba8f01f2381",
            "0e9a1c21117f4b26b1157787003027d6",
            "e010495fd7f745a7887b8c5cede0f8e5",
            "1b11f79c12394ee4805c802f669530bd",
            "01c3bca4dbb84ef49f919c7d93ed9187",
            "c8a993b47aa04e3586a264e18452de48"
          ]
        },
        "id": "lao84FCBzEDT",
        "outputId": "1c33a092-bfeb-4c23-983e-649643f07b37"
      },
      "execution_count": 21,
      "outputs": [
        {
          "output_type": "display_data",
          "data": {
            "text/plain": [
              "  0%|          | 0/22 [00:00<?, ?it/s]"
            ],
            "application/vnd.jupyter.widget-view+json": {
              "version_major": 2,
              "version_minor": 0,
              "model_id": "8bd3003258e146aeae244bb68a346232"
            }
          },
          "metadata": {}
        },
        {
          "output_type": "stream",
          "name": "stdout",
          "text": [
            "model tốt đấy, lưu nhé\n",
            "Epoch: 0 | Train loss: 1.5707513093948364 | Train accuracy: 40.98488483685221 | Test loss: 1.3625537157058716 | Test_acc: 49.810303514377\n",
            "Epoch: 1 | Train loss: 1.2194538116455078 | Train accuracy: 55.83613243761996 | Test loss: 1.6819664239883423 | Test_acc: 40.88458466453674\n",
            "model tốt đấy, lưu nhé\n",
            "Epoch: 2 | Train loss: 1.0751231908798218 | Train accuracy: 61.14443378119002 | Test loss: 1.1366270780563354 | Test_acc: 59.46485623003195\n",
            "model tốt đấy, lưu nhé\n",
            "Epoch: 3 | Train loss: 0.983295738697052 | Train accuracy: 64.47536788227767 | Test loss: 1.0854142904281616 | Test_acc: 61.2120607028754\n",
            "Epoch: 4 | Train loss: 0.9193450808525085 | Train accuracy: 66.91658669225848 | Test loss: 1.865321159362793 | Test_acc: 48.1629392971246\n",
            "model tốt đấy, lưu nhé\n",
            "Epoch: 5 | Train loss: 0.8662970066070557 | Train accuracy: 69.15786948176583 | Test loss: 0.9837254285812378 | Test_acc: 64.20726837060703\n",
            "Epoch: 6 | Train loss: 0.8242835998535156 | Train accuracy: 70.58141394753679 | Test loss: 1.1548123359680176 | Test_acc: 58.746006389776355\n",
            "model tốt đấy, lưu nhé\n",
            "Epoch: 7 | Train loss: 0.7864799499511719 | Train accuracy: 72.0369481765835 | Test loss: 0.9482117295265198 | Test_acc: 66.75319488817891\n",
            "model tốt đấy, lưu nhé\n",
            "Epoch: 8 | Train loss: 0.7540102601051331 | Train accuracy: 73.27855086372361 | Test loss: 0.8225445747375488 | Test_acc: 70.45726837060703\n",
            "model tốt đấy, lưu nhé\n",
            "Epoch: 9 | Train loss: 0.7217453122138977 | Train accuracy: 74.55614203454894 | Test loss: 0.8761366605758667 | Test_acc: 70.77675718849841\n",
            "Epoch: 10 | Train loss: 0.6964026093482971 | Train accuracy: 75.37987843889955 | Test loss: 1.0596210956573486 | Test_acc: 67.21246006389777\n",
            "model tốt đấy, lưu nhé\n",
            "Epoch: 11 | Train loss: 0.6721974015235901 | Train accuracy: 76.40155150351887 | Test loss: 0.8216494917869568 | Test_acc: 71.95487220447285\n",
            "Epoch: 12 | Train loss: 0.6514678597450256 | Train accuracy: 76.99136276391555 | Test loss: 1.2869306802749634 | Test_acc: 60.94249201277955\n",
            "Epoch: 13 | Train loss: 0.6348940134048462 | Train accuracy: 77.69113883557262 | Test loss: 0.8577447533607483 | Test_acc: 70.17771565495208\n",
            "model tốt đấy, lưu nhé\n",
            "Epoch: 14 | Train loss: 0.6161994338035583 | Train accuracy: 78.57285668586053 | Test loss: 0.7330751419067383 | Test_acc: 74.24121405750799\n",
            "model tốt đấy, lưu nhé\n",
            "Epoch: 15 | Train loss: 0.6015206575393677 | Train accuracy: 78.98072616762636 | Test loss: 0.6802384853363037 | Test_acc: 76.57747603833866\n",
            "Epoch: 16 | Train loss: 0.582466721534729 | Train accuracy: 79.53254958413308 | Test loss: 0.9922548532485962 | Test_acc: 68.32068690095846\n",
            "Epoch: 17 | Train loss: 0.5734977126121521 | Train accuracy: 79.90842930262316 | Test loss: 0.7879568934440613 | Test_acc: 74.93011182108626\n",
            "Epoch: 18 | Train loss: 0.558965802192688 | Train accuracy: 80.71017274472169 | Test loss: 0.6958476901054382 | Test_acc: 76.51757188498402\n",
            "model tốt đấy, lưu nhé\n",
            "Epoch: 19 | Train loss: 0.5432119965553284 | Train accuracy: 80.82013755598209 | Test loss: 0.6401951909065247 | Test_acc: 78.32468051118211\n",
            "Epoch: 20 | Train loss: 0.5343827605247498 | Train accuracy: 81.0580614203455 | Test loss: 0.7645182609558105 | Test_acc: 74.79033546325878\n",
            "Epoch: 21 | Train loss: 0.5271389484405518 | Train accuracy: 81.53590850927704 | Test loss: 0.7008013129234314 | Test_acc: 76.6373801916933\n"
          ]
        }
      ]
    },
    {
      "cell_type": "code",
      "source": [],
      "metadata": {
        "id": "hgF2mwgpzbLK"
      },
      "execution_count": null,
      "outputs": []
    }
  ],
  "metadata": {
    "accelerator": "GPU",
    "colab": {
      "gpuType": "T4",
      "provenance": []
    },
    "kernelspec": {
      "display_name": "Python 3",
      "name": "python3"
    },
    "language_info": {
      "name": "python"
    },
    "widgets": {
      "application/vnd.jupyter.widget-state+json": {
        "0c63088f130e425792c93f3127fd7b7e": {
          "model_module": "@jupyter-widgets/controls",
          "model_module_version": "1.5.0",
          "model_name": "HTMLModel",
          "state": {
            "_dom_classes": [],
            "_model_module": "@jupyter-widgets/controls",
            "_model_module_version": "1.5.0",
            "_model_name": "HTMLModel",
            "_view_count": null,
            "_view_module": "@jupyter-widgets/controls",
            "_view_module_version": "1.5.0",
            "_view_name": "HTMLView",
            "description": "",
            "description_tooltip": null,
            "layout": "IPY_MODEL_0e2a732b8cb24b1dbeb9952a4570644b",
            "placeholder": "​",
            "style": "IPY_MODEL_42384e1732604757a1efa2c45e0798d2",
            "value": "100%"
          }
        },
        "0c9da165e962498095c46c8e2507d631": {
          "model_module": "@jupyter-widgets/controls",
          "model_module_version": "1.5.0",
          "model_name": "HBoxModel",
          "state": {
            "_dom_classes": [],
            "_model_module": "@jupyter-widgets/controls",
            "_model_module_version": "1.5.0",
            "_model_name": "HBoxModel",
            "_view_count": null,
            "_view_module": "@jupyter-widgets/controls",
            "_view_module_version": "1.5.0",
            "_view_name": "HBoxView",
            "box_style": "",
            "children": [
              "IPY_MODEL_0c63088f130e425792c93f3127fd7b7e",
              "IPY_MODEL_5805cfd192d34617bfae39c23f49d51d",
              "IPY_MODEL_5fbea1cc2b5248b7a567362f261249d7"
            ],
            "layout": "IPY_MODEL_679a2f4e624849b2b63719f998889f5c"
          }
        },
        "0e2a732b8cb24b1dbeb9952a4570644b": {
          "model_module": "@jupyter-widgets/base",
          "model_module_version": "1.2.0",
          "model_name": "LayoutModel",
          "state": {
            "_model_module": "@jupyter-widgets/base",
            "_model_module_version": "1.2.0",
            "_model_name": "LayoutModel",
            "_view_count": null,
            "_view_module": "@jupyter-widgets/base",
            "_view_module_version": "1.2.0",
            "_view_name": "LayoutView",
            "align_content": null,
            "align_items": null,
            "align_self": null,
            "border": null,
            "bottom": null,
            "display": null,
            "flex": null,
            "flex_flow": null,
            "grid_area": null,
            "grid_auto_columns": null,
            "grid_auto_flow": null,
            "grid_auto_rows": null,
            "grid_column": null,
            "grid_gap": null,
            "grid_row": null,
            "grid_template_areas": null,
            "grid_template_columns": null,
            "grid_template_rows": null,
            "height": null,
            "justify_content": null,
            "justify_items": null,
            "left": null,
            "margin": null,
            "max_height": null,
            "max_width": null,
            "min_height": null,
            "min_width": null,
            "object_fit": null,
            "object_position": null,
            "order": null,
            "overflow": null,
            "overflow_x": null,
            "overflow_y": null,
            "padding": null,
            "right": null,
            "top": null,
            "visibility": null,
            "width": null
          }
        },
        "19d755ac42454c61862c72b4ca7b5460": {
          "model_module": "@jupyter-widgets/base",
          "model_module_version": "1.2.0",
          "model_name": "LayoutModel",
          "state": {
            "_model_module": "@jupyter-widgets/base",
            "_model_module_version": "1.2.0",
            "_model_name": "LayoutModel",
            "_view_count": null,
            "_view_module": "@jupyter-widgets/base",
            "_view_module_version": "1.2.0",
            "_view_name": "LayoutView",
            "align_content": null,
            "align_items": null,
            "align_self": null,
            "border": null,
            "bottom": null,
            "display": null,
            "flex": null,
            "flex_flow": null,
            "grid_area": null,
            "grid_auto_columns": null,
            "grid_auto_flow": null,
            "grid_auto_rows": null,
            "grid_column": null,
            "grid_gap": null,
            "grid_row": null,
            "grid_template_areas": null,
            "grid_template_columns": null,
            "grid_template_rows": null,
            "height": null,
            "justify_content": null,
            "justify_items": null,
            "left": null,
            "margin": null,
            "max_height": null,
            "max_width": null,
            "min_height": null,
            "min_width": null,
            "object_fit": null,
            "object_position": null,
            "order": null,
            "overflow": null,
            "overflow_x": null,
            "overflow_y": null,
            "padding": null,
            "right": null,
            "top": null,
            "visibility": null,
            "width": null
          }
        },
        "42384e1732604757a1efa2c45e0798d2": {
          "model_module": "@jupyter-widgets/controls",
          "model_module_version": "1.5.0",
          "model_name": "DescriptionStyleModel",
          "state": {
            "_model_module": "@jupyter-widgets/controls",
            "_model_module_version": "1.5.0",
            "_model_name": "DescriptionStyleModel",
            "_view_count": null,
            "_view_module": "@jupyter-widgets/base",
            "_view_module_version": "1.2.0",
            "_view_name": "StyleView",
            "description_width": ""
          }
        },
        "5805cfd192d34617bfae39c23f49d51d": {
          "model_module": "@jupyter-widgets/controls",
          "model_module_version": "1.5.0",
          "model_name": "FloatProgressModel",
          "state": {
            "_dom_classes": [],
            "_model_module": "@jupyter-widgets/controls",
            "_model_module_version": "1.5.0",
            "_model_name": "FloatProgressModel",
            "_view_count": null,
            "_view_module": "@jupyter-widgets/controls",
            "_view_module_version": "1.5.0",
            "_view_name": "ProgressView",
            "bar_style": "success",
            "description": "",
            "description_tooltip": null,
            "layout": "IPY_MODEL_19d755ac42454c61862c72b4ca7b5460",
            "max": 22,
            "min": 0,
            "orientation": "horizontal",
            "style": "IPY_MODEL_861b791160b04979a977afee32703cb1",
            "value": 22
          }
        },
        "5fbea1cc2b5248b7a567362f261249d7": {
          "model_module": "@jupyter-widgets/controls",
          "model_module_version": "1.5.0",
          "model_name": "HTMLModel",
          "state": {
            "_dom_classes": [],
            "_model_module": "@jupyter-widgets/controls",
            "_model_module_version": "1.5.0",
            "_model_name": "HTMLModel",
            "_view_count": null,
            "_view_module": "@jupyter-widgets/controls",
            "_view_module_version": "1.5.0",
            "_view_name": "HTMLView",
            "description": "",
            "description_tooltip": null,
            "layout": "IPY_MODEL_99649cd57fee4752a572bc5438058661",
            "placeholder": "​",
            "style": "IPY_MODEL_f462c7c702254dbc9d5689b76d7b8298",
            "value": " 22/22 [05:58&lt;00:00, 16.09s/it]"
          }
        },
        "679a2f4e624849b2b63719f998889f5c": {
          "model_module": "@jupyter-widgets/base",
          "model_module_version": "1.2.0",
          "model_name": "LayoutModel",
          "state": {
            "_model_module": "@jupyter-widgets/base",
            "_model_module_version": "1.2.0",
            "_model_name": "LayoutModel",
            "_view_count": null,
            "_view_module": "@jupyter-widgets/base",
            "_view_module_version": "1.2.0",
            "_view_name": "LayoutView",
            "align_content": null,
            "align_items": null,
            "align_self": null,
            "border": null,
            "bottom": null,
            "display": null,
            "flex": null,
            "flex_flow": null,
            "grid_area": null,
            "grid_auto_columns": null,
            "grid_auto_flow": null,
            "grid_auto_rows": null,
            "grid_column": null,
            "grid_gap": null,
            "grid_row": null,
            "grid_template_areas": null,
            "grid_template_columns": null,
            "grid_template_rows": null,
            "height": null,
            "justify_content": null,
            "justify_items": null,
            "left": null,
            "margin": null,
            "max_height": null,
            "max_width": null,
            "min_height": null,
            "min_width": null,
            "object_fit": null,
            "object_position": null,
            "order": null,
            "overflow": null,
            "overflow_x": null,
            "overflow_y": null,
            "padding": null,
            "right": null,
            "top": null,
            "visibility": null,
            "width": null
          }
        },
        "861b791160b04979a977afee32703cb1": {
          "model_module": "@jupyter-widgets/controls",
          "model_module_version": "1.5.0",
          "model_name": "ProgressStyleModel",
          "state": {
            "_model_module": "@jupyter-widgets/controls",
            "_model_module_version": "1.5.0",
            "_model_name": "ProgressStyleModel",
            "_view_count": null,
            "_view_module": "@jupyter-widgets/base",
            "_view_module_version": "1.2.0",
            "_view_name": "StyleView",
            "bar_color": null,
            "description_width": ""
          }
        },
        "99649cd57fee4752a572bc5438058661": {
          "model_module": "@jupyter-widgets/base",
          "model_module_version": "1.2.0",
          "model_name": "LayoutModel",
          "state": {
            "_model_module": "@jupyter-widgets/base",
            "_model_module_version": "1.2.0",
            "_model_name": "LayoutModel",
            "_view_count": null,
            "_view_module": "@jupyter-widgets/base",
            "_view_module_version": "1.2.0",
            "_view_name": "LayoutView",
            "align_content": null,
            "align_items": null,
            "align_self": null,
            "border": null,
            "bottom": null,
            "display": null,
            "flex": null,
            "flex_flow": null,
            "grid_area": null,
            "grid_auto_columns": null,
            "grid_auto_flow": null,
            "grid_auto_rows": null,
            "grid_column": null,
            "grid_gap": null,
            "grid_row": null,
            "grid_template_areas": null,
            "grid_template_columns": null,
            "grid_template_rows": null,
            "height": null,
            "justify_content": null,
            "justify_items": null,
            "left": null,
            "margin": null,
            "max_height": null,
            "max_width": null,
            "min_height": null,
            "min_width": null,
            "object_fit": null,
            "object_position": null,
            "order": null,
            "overflow": null,
            "overflow_x": null,
            "overflow_y": null,
            "padding": null,
            "right": null,
            "top": null,
            "visibility": null,
            "width": null
          }
        },
        "f462c7c702254dbc9d5689b76d7b8298": {
          "model_module": "@jupyter-widgets/controls",
          "model_module_version": "1.5.0",
          "model_name": "DescriptionStyleModel",
          "state": {
            "_model_module": "@jupyter-widgets/controls",
            "_model_module_version": "1.5.0",
            "_model_name": "DescriptionStyleModel",
            "_view_count": null,
            "_view_module": "@jupyter-widgets/base",
            "_view_module_version": "1.2.0",
            "_view_name": "StyleView",
            "description_width": ""
          }
        },
        "db50e7639d124ac497f8195aef146ba2": {
          "model_module": "@jupyter-widgets/controls",
          "model_name": "HBoxModel",
          "model_module_version": "1.5.0",
          "state": {
            "_dom_classes": [],
            "_model_module": "@jupyter-widgets/controls",
            "_model_module_version": "1.5.0",
            "_model_name": "HBoxModel",
            "_view_count": null,
            "_view_module": "@jupyter-widgets/controls",
            "_view_module_version": "1.5.0",
            "_view_name": "HBoxView",
            "box_style": "",
            "children": [
              "IPY_MODEL_889a6f59834d4dcd8b9b26001d065967",
              "IPY_MODEL_1446b853cfb64371abc8b726dc8ba822",
              "IPY_MODEL_c9357834251744319d20a620430c01d2"
            ],
            "layout": "IPY_MODEL_67deee0c0bee4e5583fca8e7e73775a6"
          }
        },
        "889a6f59834d4dcd8b9b26001d065967": {
          "model_module": "@jupyter-widgets/controls",
          "model_name": "HTMLModel",
          "model_module_version": "1.5.0",
          "state": {
            "_dom_classes": [],
            "_model_module": "@jupyter-widgets/controls",
            "_model_module_version": "1.5.0",
            "_model_name": "HTMLModel",
            "_view_count": null,
            "_view_module": "@jupyter-widgets/controls",
            "_view_module_version": "1.5.0",
            "_view_name": "HTMLView",
            "description": "",
            "description_tooltip": null,
            "layout": "IPY_MODEL_300f65e601084e4eb82066f88f636832",
            "placeholder": "​",
            "style": "IPY_MODEL_cff57f408c1e472f99a4ff68c228c77d",
            "value": "100%"
          }
        },
        "1446b853cfb64371abc8b726dc8ba822": {
          "model_module": "@jupyter-widgets/controls",
          "model_name": "FloatProgressModel",
          "model_module_version": "1.5.0",
          "state": {
            "_dom_classes": [],
            "_model_module": "@jupyter-widgets/controls",
            "_model_module_version": "1.5.0",
            "_model_name": "FloatProgressModel",
            "_view_count": null,
            "_view_module": "@jupyter-widgets/controls",
            "_view_module_version": "1.5.0",
            "_view_name": "ProgressView",
            "bar_style": "success",
            "description": "",
            "description_tooltip": null,
            "layout": "IPY_MODEL_d0a7a32394f2493fa087ad75be39bf21",
            "max": 22,
            "min": 0,
            "orientation": "horizontal",
            "style": "IPY_MODEL_11fe1e28faa94db4b809ffd501b573f7",
            "value": 22
          }
        },
        "c9357834251744319d20a620430c01d2": {
          "model_module": "@jupyter-widgets/controls",
          "model_name": "HTMLModel",
          "model_module_version": "1.5.0",
          "state": {
            "_dom_classes": [],
            "_model_module": "@jupyter-widgets/controls",
            "_model_module_version": "1.5.0",
            "_model_name": "HTMLModel",
            "_view_count": null,
            "_view_module": "@jupyter-widgets/controls",
            "_view_module_version": "1.5.0",
            "_view_name": "HTMLView",
            "description": "",
            "description_tooltip": null,
            "layout": "IPY_MODEL_f757cf8294784aa4bc51b60e3ff45fad",
            "placeholder": "​",
            "style": "IPY_MODEL_76516bfc484345e7a65c6309f44c5109",
            "value": " 22/22 [07:26&lt;00:00, 19.89s/it]"
          }
        },
        "67deee0c0bee4e5583fca8e7e73775a6": {
          "model_module": "@jupyter-widgets/base",
          "model_name": "LayoutModel",
          "model_module_version": "1.2.0",
          "state": {
            "_model_module": "@jupyter-widgets/base",
            "_model_module_version": "1.2.0",
            "_model_name": "LayoutModel",
            "_view_count": null,
            "_view_module": "@jupyter-widgets/base",
            "_view_module_version": "1.2.0",
            "_view_name": "LayoutView",
            "align_content": null,
            "align_items": null,
            "align_self": null,
            "border": null,
            "bottom": null,
            "display": null,
            "flex": null,
            "flex_flow": null,
            "grid_area": null,
            "grid_auto_columns": null,
            "grid_auto_flow": null,
            "grid_auto_rows": null,
            "grid_column": null,
            "grid_gap": null,
            "grid_row": null,
            "grid_template_areas": null,
            "grid_template_columns": null,
            "grid_template_rows": null,
            "height": null,
            "justify_content": null,
            "justify_items": null,
            "left": null,
            "margin": null,
            "max_height": null,
            "max_width": null,
            "min_height": null,
            "min_width": null,
            "object_fit": null,
            "object_position": null,
            "order": null,
            "overflow": null,
            "overflow_x": null,
            "overflow_y": null,
            "padding": null,
            "right": null,
            "top": null,
            "visibility": null,
            "width": null
          }
        },
        "300f65e601084e4eb82066f88f636832": {
          "model_module": "@jupyter-widgets/base",
          "model_name": "LayoutModel",
          "model_module_version": "1.2.0",
          "state": {
            "_model_module": "@jupyter-widgets/base",
            "_model_module_version": "1.2.0",
            "_model_name": "LayoutModel",
            "_view_count": null,
            "_view_module": "@jupyter-widgets/base",
            "_view_module_version": "1.2.0",
            "_view_name": "LayoutView",
            "align_content": null,
            "align_items": null,
            "align_self": null,
            "border": null,
            "bottom": null,
            "display": null,
            "flex": null,
            "flex_flow": null,
            "grid_area": null,
            "grid_auto_columns": null,
            "grid_auto_flow": null,
            "grid_auto_rows": null,
            "grid_column": null,
            "grid_gap": null,
            "grid_row": null,
            "grid_template_areas": null,
            "grid_template_columns": null,
            "grid_template_rows": null,
            "height": null,
            "justify_content": null,
            "justify_items": null,
            "left": null,
            "margin": null,
            "max_height": null,
            "max_width": null,
            "min_height": null,
            "min_width": null,
            "object_fit": null,
            "object_position": null,
            "order": null,
            "overflow": null,
            "overflow_x": null,
            "overflow_y": null,
            "padding": null,
            "right": null,
            "top": null,
            "visibility": null,
            "width": null
          }
        },
        "cff57f408c1e472f99a4ff68c228c77d": {
          "model_module": "@jupyter-widgets/controls",
          "model_name": "DescriptionStyleModel",
          "model_module_version": "1.5.0",
          "state": {
            "_model_module": "@jupyter-widgets/controls",
            "_model_module_version": "1.5.0",
            "_model_name": "DescriptionStyleModel",
            "_view_count": null,
            "_view_module": "@jupyter-widgets/base",
            "_view_module_version": "1.2.0",
            "_view_name": "StyleView",
            "description_width": ""
          }
        },
        "d0a7a32394f2493fa087ad75be39bf21": {
          "model_module": "@jupyter-widgets/base",
          "model_name": "LayoutModel",
          "model_module_version": "1.2.0",
          "state": {
            "_model_module": "@jupyter-widgets/base",
            "_model_module_version": "1.2.0",
            "_model_name": "LayoutModel",
            "_view_count": null,
            "_view_module": "@jupyter-widgets/base",
            "_view_module_version": "1.2.0",
            "_view_name": "LayoutView",
            "align_content": null,
            "align_items": null,
            "align_self": null,
            "border": null,
            "bottom": null,
            "display": null,
            "flex": null,
            "flex_flow": null,
            "grid_area": null,
            "grid_auto_columns": null,
            "grid_auto_flow": null,
            "grid_auto_rows": null,
            "grid_column": null,
            "grid_gap": null,
            "grid_row": null,
            "grid_template_areas": null,
            "grid_template_columns": null,
            "grid_template_rows": null,
            "height": null,
            "justify_content": null,
            "justify_items": null,
            "left": null,
            "margin": null,
            "max_height": null,
            "max_width": null,
            "min_height": null,
            "min_width": null,
            "object_fit": null,
            "object_position": null,
            "order": null,
            "overflow": null,
            "overflow_x": null,
            "overflow_y": null,
            "padding": null,
            "right": null,
            "top": null,
            "visibility": null,
            "width": null
          }
        },
        "11fe1e28faa94db4b809ffd501b573f7": {
          "model_module": "@jupyter-widgets/controls",
          "model_name": "ProgressStyleModel",
          "model_module_version": "1.5.0",
          "state": {
            "_model_module": "@jupyter-widgets/controls",
            "_model_module_version": "1.5.0",
            "_model_name": "ProgressStyleModel",
            "_view_count": null,
            "_view_module": "@jupyter-widgets/base",
            "_view_module_version": "1.2.0",
            "_view_name": "StyleView",
            "bar_color": null,
            "description_width": ""
          }
        },
        "f757cf8294784aa4bc51b60e3ff45fad": {
          "model_module": "@jupyter-widgets/base",
          "model_name": "LayoutModel",
          "model_module_version": "1.2.0",
          "state": {
            "_model_module": "@jupyter-widgets/base",
            "_model_module_version": "1.2.0",
            "_model_name": "LayoutModel",
            "_view_count": null,
            "_view_module": "@jupyter-widgets/base",
            "_view_module_version": "1.2.0",
            "_view_name": "LayoutView",
            "align_content": null,
            "align_items": null,
            "align_self": null,
            "border": null,
            "bottom": null,
            "display": null,
            "flex": null,
            "flex_flow": null,
            "grid_area": null,
            "grid_auto_columns": null,
            "grid_auto_flow": null,
            "grid_auto_rows": null,
            "grid_column": null,
            "grid_gap": null,
            "grid_row": null,
            "grid_template_areas": null,
            "grid_template_columns": null,
            "grid_template_rows": null,
            "height": null,
            "justify_content": null,
            "justify_items": null,
            "left": null,
            "margin": null,
            "max_height": null,
            "max_width": null,
            "min_height": null,
            "min_width": null,
            "object_fit": null,
            "object_position": null,
            "order": null,
            "overflow": null,
            "overflow_x": null,
            "overflow_y": null,
            "padding": null,
            "right": null,
            "top": null,
            "visibility": null,
            "width": null
          }
        },
        "76516bfc484345e7a65c6309f44c5109": {
          "model_module": "@jupyter-widgets/controls",
          "model_name": "DescriptionStyleModel",
          "model_module_version": "1.5.0",
          "state": {
            "_model_module": "@jupyter-widgets/controls",
            "_model_module_version": "1.5.0",
            "_model_name": "DescriptionStyleModel",
            "_view_count": null,
            "_view_module": "@jupyter-widgets/base",
            "_view_module_version": "1.2.0",
            "_view_name": "StyleView",
            "description_width": ""
          }
        },
        "8bd3003258e146aeae244bb68a346232": {
          "model_module": "@jupyter-widgets/controls",
          "model_name": "HBoxModel",
          "model_module_version": "1.5.0",
          "state": {
            "_dom_classes": [],
            "_model_module": "@jupyter-widgets/controls",
            "_model_module_version": "1.5.0",
            "_model_name": "HBoxModel",
            "_view_count": null,
            "_view_module": "@jupyter-widgets/controls",
            "_view_module_version": "1.5.0",
            "_view_name": "HBoxView",
            "box_style": "",
            "children": [
              "IPY_MODEL_2a5322adc983449ab8ac5f77cf8b1690",
              "IPY_MODEL_5fc5e2770bfb457f8c3f24983a8e8e9d",
              "IPY_MODEL_5b98d62c7f00420091eca90a309dae3c"
            ],
            "layout": "IPY_MODEL_f5ded7a83dd14ce5b1299ca4bfff90b9"
          }
        },
        "2a5322adc983449ab8ac5f77cf8b1690": {
          "model_module": "@jupyter-widgets/controls",
          "model_name": "HTMLModel",
          "model_module_version": "1.5.0",
          "state": {
            "_dom_classes": [],
            "_model_module": "@jupyter-widgets/controls",
            "_model_module_version": "1.5.0",
            "_model_name": "HTMLModel",
            "_view_count": null,
            "_view_module": "@jupyter-widgets/controls",
            "_view_module_version": "1.5.0",
            "_view_name": "HTMLView",
            "description": "",
            "description_tooltip": null,
            "layout": "IPY_MODEL_f6e06523e6134805bcc39ba8f01f2381",
            "placeholder": "​",
            "style": "IPY_MODEL_0e9a1c21117f4b26b1157787003027d6",
            "value": "100%"
          }
        },
        "5fc5e2770bfb457f8c3f24983a8e8e9d": {
          "model_module": "@jupyter-widgets/controls",
          "model_name": "FloatProgressModel",
          "model_module_version": "1.5.0",
          "state": {
            "_dom_classes": [],
            "_model_module": "@jupyter-widgets/controls",
            "_model_module_version": "1.5.0",
            "_model_name": "FloatProgressModel",
            "_view_count": null,
            "_view_module": "@jupyter-widgets/controls",
            "_view_module_version": "1.5.0",
            "_view_name": "ProgressView",
            "bar_style": "success",
            "description": "",
            "description_tooltip": null,
            "layout": "IPY_MODEL_e010495fd7f745a7887b8c5cede0f8e5",
            "max": 22,
            "min": 0,
            "orientation": "horizontal",
            "style": "IPY_MODEL_1b11f79c12394ee4805c802f669530bd",
            "value": 22
          }
        },
        "5b98d62c7f00420091eca90a309dae3c": {
          "model_module": "@jupyter-widgets/controls",
          "model_name": "HTMLModel",
          "model_module_version": "1.5.0",
          "state": {
            "_dom_classes": [],
            "_model_module": "@jupyter-widgets/controls",
            "_model_module_version": "1.5.0",
            "_model_name": "HTMLModel",
            "_view_count": null,
            "_view_module": "@jupyter-widgets/controls",
            "_view_module_version": "1.5.0",
            "_view_name": "HTMLView",
            "description": "",
            "description_tooltip": null,
            "layout": "IPY_MODEL_01c3bca4dbb84ef49f919c7d93ed9187",
            "placeholder": "​",
            "style": "IPY_MODEL_c8a993b47aa04e3586a264e18452de48",
            "value": " 22/22 [06:55&lt;00:00, 18.75s/it]"
          }
        },
        "f5ded7a83dd14ce5b1299ca4bfff90b9": {
          "model_module": "@jupyter-widgets/base",
          "model_name": "LayoutModel",
          "model_module_version": "1.2.0",
          "state": {
            "_model_module": "@jupyter-widgets/base",
            "_model_module_version": "1.2.0",
            "_model_name": "LayoutModel",
            "_view_count": null,
            "_view_module": "@jupyter-widgets/base",
            "_view_module_version": "1.2.0",
            "_view_name": "LayoutView",
            "align_content": null,
            "align_items": null,
            "align_self": null,
            "border": null,
            "bottom": null,
            "display": null,
            "flex": null,
            "flex_flow": null,
            "grid_area": null,
            "grid_auto_columns": null,
            "grid_auto_flow": null,
            "grid_auto_rows": null,
            "grid_column": null,
            "grid_gap": null,
            "grid_row": null,
            "grid_template_areas": null,
            "grid_template_columns": null,
            "grid_template_rows": null,
            "height": null,
            "justify_content": null,
            "justify_items": null,
            "left": null,
            "margin": null,
            "max_height": null,
            "max_width": null,
            "min_height": null,
            "min_width": null,
            "object_fit": null,
            "object_position": null,
            "order": null,
            "overflow": null,
            "overflow_x": null,
            "overflow_y": null,
            "padding": null,
            "right": null,
            "top": null,
            "visibility": null,
            "width": null
          }
        },
        "f6e06523e6134805bcc39ba8f01f2381": {
          "model_module": "@jupyter-widgets/base",
          "model_name": "LayoutModel",
          "model_module_version": "1.2.0",
          "state": {
            "_model_module": "@jupyter-widgets/base",
            "_model_module_version": "1.2.0",
            "_model_name": "LayoutModel",
            "_view_count": null,
            "_view_module": "@jupyter-widgets/base",
            "_view_module_version": "1.2.0",
            "_view_name": "LayoutView",
            "align_content": null,
            "align_items": null,
            "align_self": null,
            "border": null,
            "bottom": null,
            "display": null,
            "flex": null,
            "flex_flow": null,
            "grid_area": null,
            "grid_auto_columns": null,
            "grid_auto_flow": null,
            "grid_auto_rows": null,
            "grid_column": null,
            "grid_gap": null,
            "grid_row": null,
            "grid_template_areas": null,
            "grid_template_columns": null,
            "grid_template_rows": null,
            "height": null,
            "justify_content": null,
            "justify_items": null,
            "left": null,
            "margin": null,
            "max_height": null,
            "max_width": null,
            "min_height": null,
            "min_width": null,
            "object_fit": null,
            "object_position": null,
            "order": null,
            "overflow": null,
            "overflow_x": null,
            "overflow_y": null,
            "padding": null,
            "right": null,
            "top": null,
            "visibility": null,
            "width": null
          }
        },
        "0e9a1c21117f4b26b1157787003027d6": {
          "model_module": "@jupyter-widgets/controls",
          "model_name": "DescriptionStyleModel",
          "model_module_version": "1.5.0",
          "state": {
            "_model_module": "@jupyter-widgets/controls",
            "_model_module_version": "1.5.0",
            "_model_name": "DescriptionStyleModel",
            "_view_count": null,
            "_view_module": "@jupyter-widgets/base",
            "_view_module_version": "1.2.0",
            "_view_name": "StyleView",
            "description_width": ""
          }
        },
        "e010495fd7f745a7887b8c5cede0f8e5": {
          "model_module": "@jupyter-widgets/base",
          "model_name": "LayoutModel",
          "model_module_version": "1.2.0",
          "state": {
            "_model_module": "@jupyter-widgets/base",
            "_model_module_version": "1.2.0",
            "_model_name": "LayoutModel",
            "_view_count": null,
            "_view_module": "@jupyter-widgets/base",
            "_view_module_version": "1.2.0",
            "_view_name": "LayoutView",
            "align_content": null,
            "align_items": null,
            "align_self": null,
            "border": null,
            "bottom": null,
            "display": null,
            "flex": null,
            "flex_flow": null,
            "grid_area": null,
            "grid_auto_columns": null,
            "grid_auto_flow": null,
            "grid_auto_rows": null,
            "grid_column": null,
            "grid_gap": null,
            "grid_row": null,
            "grid_template_areas": null,
            "grid_template_columns": null,
            "grid_template_rows": null,
            "height": null,
            "justify_content": null,
            "justify_items": null,
            "left": null,
            "margin": null,
            "max_height": null,
            "max_width": null,
            "min_height": null,
            "min_width": null,
            "object_fit": null,
            "object_position": null,
            "order": null,
            "overflow": null,
            "overflow_x": null,
            "overflow_y": null,
            "padding": null,
            "right": null,
            "top": null,
            "visibility": null,
            "width": null
          }
        },
        "1b11f79c12394ee4805c802f669530bd": {
          "model_module": "@jupyter-widgets/controls",
          "model_name": "ProgressStyleModel",
          "model_module_version": "1.5.0",
          "state": {
            "_model_module": "@jupyter-widgets/controls",
            "_model_module_version": "1.5.0",
            "_model_name": "ProgressStyleModel",
            "_view_count": null,
            "_view_module": "@jupyter-widgets/base",
            "_view_module_version": "1.2.0",
            "_view_name": "StyleView",
            "bar_color": null,
            "description_width": ""
          }
        },
        "01c3bca4dbb84ef49f919c7d93ed9187": {
          "model_module": "@jupyter-widgets/base",
          "model_name": "LayoutModel",
          "model_module_version": "1.2.0",
          "state": {
            "_model_module": "@jupyter-widgets/base",
            "_model_module_version": "1.2.0",
            "_model_name": "LayoutModel",
            "_view_count": null,
            "_view_module": "@jupyter-widgets/base",
            "_view_module_version": "1.2.0",
            "_view_name": "LayoutView",
            "align_content": null,
            "align_items": null,
            "align_self": null,
            "border": null,
            "bottom": null,
            "display": null,
            "flex": null,
            "flex_flow": null,
            "grid_area": null,
            "grid_auto_columns": null,
            "grid_auto_flow": null,
            "grid_auto_rows": null,
            "grid_column": null,
            "grid_gap": null,
            "grid_row": null,
            "grid_template_areas": null,
            "grid_template_columns": null,
            "grid_template_rows": null,
            "height": null,
            "justify_content": null,
            "justify_items": null,
            "left": null,
            "margin": null,
            "max_height": null,
            "max_width": null,
            "min_height": null,
            "min_width": null,
            "object_fit": null,
            "object_position": null,
            "order": null,
            "overflow": null,
            "overflow_x": null,
            "overflow_y": null,
            "padding": null,
            "right": null,
            "top": null,
            "visibility": null,
            "width": null
          }
        },
        "c8a993b47aa04e3586a264e18452de48": {
          "model_module": "@jupyter-widgets/controls",
          "model_name": "DescriptionStyleModel",
          "model_module_version": "1.5.0",
          "state": {
            "_model_module": "@jupyter-widgets/controls",
            "_model_module_version": "1.5.0",
            "_model_name": "DescriptionStyleModel",
            "_view_count": null,
            "_view_module": "@jupyter-widgets/base",
            "_view_module_version": "1.2.0",
            "_view_name": "StyleView",
            "description_width": ""
          }
        }
      }
    }
  },
  "nbformat": 4,
  "nbformat_minor": 0
}