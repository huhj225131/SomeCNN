{
  "cells": [
    {
      "cell_type": "markdown",
      "metadata": {
        "id": "t0rp8Xfrjf8M"
      },
      "source": [
        "# Thử ngồi code hết mấy cái CNN tìm hiểu được 3"
      ]
    },
    {
      "cell_type": "markdown",
      "metadata": {
        "id": "PDIYiF6zpbvx"
      },
      "source": [
        "##I. Dataset: CIFAR-10"
      ]
    },
    {
      "cell_type": "code",
      "execution_count": 1,
      "metadata": {
        "id": "4H3kq5UUpxWV"
      },
      "outputs": [],
      "source": [
        "import torch\n",
        "from torch import nn\n",
        "import torchvision\n",
        "from torchvision import datasets\n",
        "from torchvision import transforms\n",
        "from torchvision.transforms import ToTensor\n",
        "import matplotlib.pyplot as plt\n",
        "from tqdm.auto import tqdm\n",
        "from pathlib import Path\n",
        "import torch.nn.functional as F"
      ]
    },
    {
      "cell_type": "code",
      "execution_count": 2,
      "metadata": {
        "colab": {
          "base_uri": "https://localhost:8080/"
        },
        "id": "ruZsqJEgpxvO",
        "outputId": "fd308e45-2818-4bb5-d1ba-9d22f200b087"
      },
      "outputs": [
        {
          "output_type": "stream",
          "name": "stdout",
          "text": [
            "Files already downloaded and verified\n",
            "Files already downloaded and verified\n"
          ]
        }
      ],
      "source": [
        "#Load train and test data\n",
        "train_transform = transforms.Compose([\n",
        "    transforms.Resize((32,32)),\n",
        "    transforms.RandomHorizontalFlip(p=0.5),\n",
        "    transforms.RandomVerticalFlip(p=0.1),\n",
        "    transforms.ToTensor()]\n",
        ")\n",
        "test_transform = transforms.Compose(\n",
        "    [transforms.Resize((32,32)),\n",
        "    transforms.ToTensor()]\n",
        ")\n",
        "train_data = torchvision.datasets.CIFAR10(root='dataset', train=True,\n",
        "                                          download=True,\n",
        "                                          transform=train_transform,\n",
        "                                          target_transform=None)\n",
        "test_data = torchvision.datasets.CIFAR10(root='dataset', train=False,\n",
        "                                         download=True, transform=test_transform,\n",
        "                                         target_transform=None)"
      ]
    },
    {
      "cell_type": "code",
      "execution_count": 3,
      "metadata": {
        "colab": {
          "base_uri": "https://localhost:8080/"
        },
        "id": "1ihxnCzFqn-4",
        "outputId": "3e3730c6-e034-4ea6-db45-bfb23ee89393"
      },
      "outputs": [
        {
          "output_type": "execute_result",
          "data": {
            "text/plain": [
              "(50000, 10000)"
            ]
          },
          "metadata": {},
          "execution_count": 3
        }
      ],
      "source": [
        "len(train_data), len(test_data)"
      ]
    },
    {
      "cell_type": "code",
      "execution_count": 4,
      "metadata": {
        "colab": {
          "base_uri": "https://localhost:8080/"
        },
        "id": "8O5OSaXZq26G",
        "outputId": "32c7d2d3-418b-4710-ef4f-8e41910239dc"
      },
      "outputs": [
        {
          "output_type": "execute_result",
          "data": {
            "text/plain": [
              "Dataset CIFAR10\n",
              "    Number of datapoints: 50000\n",
              "    Root location: dataset\n",
              "    Split: Train\n",
              "    StandardTransform\n",
              "Transform: Compose(\n",
              "               Resize(size=(32, 32), interpolation=bilinear, max_size=None, antialias=True)\n",
              "               RandomHorizontalFlip(p=0.5)\n",
              "               RandomVerticalFlip(p=0.1)\n",
              "               ToTensor()\n",
              "           )"
            ]
          },
          "metadata": {},
          "execution_count": 4
        }
      ],
      "source": [
        "train_data"
      ]
    },
    {
      "cell_type": "code",
      "execution_count": 5,
      "metadata": {
        "colab": {
          "base_uri": "https://localhost:8080/",
          "height": 615
        },
        "id": "JzP00uXKq5P_",
        "outputId": "95322f91-3518-40b7-8374-c23dc45de2e8"
      },
      "outputs": [
        {
          "output_type": "display_data",
          "data": {
            "text/plain": [
              "<Figure size 1000x700 with 1 Axes>"
            ],
            "image/png": "[encoded data removed]"
          },
          "metadata": {}
        },
        {
          "output_type": "execute_result",
          "data": {
            "text/plain": [
              "(32, 32, 3)"
            ]
          },
          "metadata": {},
          "execution_count": 5
        }
      ],
      "source": [
        "#Select random image\n",
        "torch.manual_seed(13)\n",
        "idx = torch.randint(0 , len(train_data), size  = [1])\n",
        "image, label = train_data[idx]\n",
        "\n",
        "#Get image class\n",
        "class_names = train_data.classes\n",
        "\n",
        "# Convert (C, H, W) to (H, W, C)\n",
        "image = image.permute(1,2,0)\n",
        "image = image.numpy()\n",
        "\n",
        "#Show image\n",
        "plt.figure(figsize=(10,7))\n",
        "plt.axis('off')\n",
        "plt.imshow(image)\n",
        "plt.title(class_names[label])\n",
        "plt.show()\n",
        "image.shape"
      ]
    },
    {
      "cell_type": "code",
      "execution_count": 6,
      "metadata": {
        "colab": {
          "base_uri": "https://localhost:8080/",
          "height": 598
        },
        "id": "gXvpFymuq8bZ",
        "outputId": "7d41d95d-e1d6-40c6-a034-044f500a7605"
      },
      "outputs": [
        {
          "output_type": "display_data",
          "data": {
            "text/plain": [
              "<Figure size 1000x700 with 9 Axes>"
            ],
            "image/png": "[encoded data removed]"
          },
          "metadata": {}
        }
      ],
      "source": [
        "torch.manual_seed(24)\n",
        "pic = plt.figure(figsize= (10,7))\n",
        "rows = 3\n",
        "columns = 3\n",
        "for i in range(rows * columns):\n",
        "  idx = torch.randint(0, len(train_data), size=[1])\n",
        "  image, label = train_data[idx]\n",
        "\n",
        "  image = image.permute(1,2,0)\n",
        "  image = image.numpy()\n",
        "  pic.add_subplot(rows, columns, i+ 1)\n",
        "  plt.imshow(image)\n",
        "  plt.title(class_names[label])\n",
        "  plt.axis('off')\n",
        "plt.show()"
      ]
    },
    {
      "cell_type": "code",
      "execution_count": 7,
      "metadata": {
        "id": "OWrCjKZ4reCk"
      },
      "outputs": [],
      "source": [
        "from torch.utils.data import DataLoader\n",
        "\n",
        "BATCH_SIZE = 32\n",
        "\n",
        "train_dataloader = DataLoader(dataset = train_data,\n",
        "                              batch_size = BATCH_SIZE,\n",
        "                              shuffle=True)\n",
        "test_dataloader = DataLoader(dataset = test_data,\n",
        "                             batch_size = BATCH_SIZE,\n",
        "                             shuffle=False)\n"
      ]
    },
    {
      "cell_type": "markdown",
      "metadata": {
        "id": "mX04ZKxDrtZz"
      },
      "source": [
        "## Get some helper function"
      ]
    },
    {
      "cell_type": "code",
      "execution_count": 20,
      "metadata": {
        "colab": {
          "base_uri": "https://localhost:8080/"
        },
        "id": "FTBjY3cHrwm6",
        "outputId": "c4318a06-d554-49dd-e571-762f59d55454"
      },
      "outputs": [
        {
          "output_type": "stream",
          "name": "stdout",
          "text": [
            "Helper functions already exists, skipping dowload\n"
          ]
        }
      ],
      "source": [
        "import requests\n",
        "from pathlib import Path\n",
        "\n",
        "if Path('helper_functions.py').is_file():\n",
        "  print(\"Helper functions already exists, skipping dowload\" )\n",
        "else:\n",
        "  print(\"Download helper_functions.py\")\n",
        "  request = requests.get(\"https://raw.githubusercontent.com/huhj225131/SomeCNN/main/helper_functions.py\")\n",
        "  with open(\"helper_functions.py\", \"wb\") as f:\n",
        "    f.write(request.content)"
      ]
    },
    {
      "cell_type": "code",
      "execution_count": 21,
      "metadata": {
        "id": "9kbjzXAirzAa"
      },
      "outputs": [],
      "source": [
        "from helper_functions import *"
      ]
    },
    {
      "cell_type": "code",
      "execution_count": 22,
      "metadata": {
        "colab": {
          "base_uri": "https://localhost:8080/",
          "height": 35
        },
        "id": "h97cie-Pr1PP",
        "outputId": "6f530025-ecf2-4530-da6b-a4b19b447b05"
      },
      "outputs": [
        {
          "output_type": "execute_result",
          "data": {
            "text/plain": [
              "'cuda'"
            ],
            "application/vnd.google.colaboratory.intrinsic+json": {
              "type": "string"
            }
          },
          "metadata": {},
          "execution_count": 22
        }
      ],
      "source": [
        "device = 'cuda' if torch.cuda.is_available() else 'cpu'\n",
        "device"
      ]
    },
    {
      "cell_type": "code",
      "execution_count": 23,
      "metadata": {
        "id": "6F8CpBfBr3qc"
      },
      "outputs": [],
      "source": [
        "# Create directory to store models\n",
        "MODEL_PATH = Path(\"models\")\n",
        "MODEL_PATH.mkdir(parents=True,\n",
        "                 exist_ok = True)"
      ]
    },
    {
      "cell_type": "markdown",
      "metadata": {
        "id": "7VZ35MwCr8dU"
      },
      "source": [
        "## CNN"
      ]
    },
    {
      "cell_type": "markdown",
      "metadata": {
        "id": "242hPkthsAkK"
      },
      "source": [
        "### Model nay toi da may man duoc doc va tim hieu tu mot nguoi ban trong lab cua truong\n"
      ]
    },
    {
      "cell_type": "code",
      "execution_count": 12,
      "metadata": {
        "id": "r1bdNJprvIg-"
      },
      "outputs": [],
      "source": [
        "class residual_block(nn.Module):\n",
        "  def __init__ (self, layer):\n",
        "    super().__init__()\n",
        "    self.layer = layer\n",
        "  def forward(self, X):\n",
        "    return X + self.layer(X)"
      ]
    },
    {
      "cell_type": "code",
      "execution_count": 13,
      "metadata": {
        "id": "my4JkcC9xLW1"
      },
      "outputs": [],
      "source": [
        "class model_class(nn.Module):\n",
        "  def __init__(self, in_channels, out_channels, depth, kernel_size = 9, patch_size = 9):\n",
        "    super().__init__()\n",
        "    self.conv= nn.Sequential(\n",
        "        nn.Conv2d(in_channels, 8, kernel_size=kernel_size, stride = patch_size),\n",
        "        nn.GELU(),\n",
        "        nn.BatchNorm2d(8)\n",
        "    )\n",
        "    self.res = nn.Sequential(*[\n",
        "            nn.Sequential(\n",
        "                residual_block(nn.Sequential(\n",
        "                    nn.Conv2d(8, 8, kernel_size, groups=8, padding=\"same\"),\n",
        "                    nn.GELU(),\n",
        "                    nn.BatchNorm2d(8)\n",
        "                )),\n",
        "                nn.Conv2d(8, 8, 1),\n",
        "                nn.GELU(),\n",
        "                nn.BatchNorm2d(8)\n",
        "            ) for _ in range(depth)\n",
        "        ])\n",
        "\n",
        "    self.linear = nn.Sequential(nn.AdaptiveAvgPool2d((1,1)),\n",
        "                                nn.Flatten(),\n",
        "                                nn.Linear(8, out_channels))\n",
        "  def forward(self, X):\n",
        "    return self.linear(self.res(self.conv(X)))"
      ]
    },
    {
      "cell_type": "code",
      "execution_count": 14,
      "metadata": {
        "id": "6Yl853OZ0zAo"
      },
      "outputs": [],
      "source": [
        "model = model_class(3, len(class_names),3)"
      ]
    },
    {
      "cell_type": "code",
      "source": [
        "# Install torchinfo, import if it's available\n",
        "try:\n",
        "  import torchinfo\n",
        "except:\n",
        "  !pip install torchinfo\n",
        "  import torchinfo\n",
        "from torchinfo import summary\n",
        "summary(model,input_size=[32,3,64,64])"
      ],
      "metadata": {
        "colab": {
          "base_uri": "https://localhost:8080/"
        },
        "id": "9h3vsAB-2fw9",
        "outputId": "f094b175-b51f-4b20-cb8f-7b8242e2cf1a"
      },
      "execution_count": 15,
      "outputs": [
        {
          "output_type": "stream",
          "name": "stdout",
          "text": [
            "Collecting torchinfo\n",
            "  Downloading torchinfo-1.8.0-py3-none-any.whl.metadata (21 kB)\n",
            "Downloading torchinfo-1.8.0-py3-none-any.whl (23 kB)\n",
            "Installing collected packages: torchinfo\n",
            "Successfully installed torchinfo-1.8.0\n"
          ]
        },
        {
          "output_type": "execute_result",
          "data": {
            "text/plain": [
              "===============================================================================================\n",
              "Layer (type:depth-idx)                        Output Shape              Param #\n",
              "===============================================================================================\n",
              "model_class                                   [32, 10]                  --\n",
              "├─Sequential: 1-1                             [32, 8, 7, 7]             --\n",
              "│    └─Conv2d: 2-1                            [32, 8, 7, 7]             1,952\n",
              "│    └─GELU: 2-2                              [32, 8, 7, 7]             --\n",
              "│    └─BatchNorm2d: 2-3                       [32, 8, 7, 7]             16\n",
              "├─Sequential: 1-2                             [32, 8, 7, 7]             --\n",
              "│    └─Sequential: 2-4                        [32, 8, 7, 7]             --\n",
              "│    │    └─residual_block: 3-1               [32, 8, 7, 7]             672\n",
              "│    │    └─Conv2d: 3-2                       [32, 8, 7, 7]             72\n",
              "│    │    └─GELU: 3-3                         [32, 8, 7, 7]             --\n",
              "│    │    └─BatchNorm2d: 3-4                  [32, 8, 7, 7]             16\n",
              "│    └─Sequential: 2-5                        [32, 8, 7, 7]             --\n",
              "│    │    └─residual_block: 3-5               [32, 8, 7, 7]             672\n",
              "│    │    └─Conv2d: 3-6                       [32, 8, 7, 7]             72\n",
              "│    │    └─GELU: 3-7                         [32, 8, 7, 7]             --\n",
              "│    │    └─BatchNorm2d: 3-8                  [32, 8, 7, 7]             16\n",
              "│    └─Sequential: 2-6                        [32, 8, 7, 7]             --\n",
              "│    │    └─residual_block: 3-9               [32, 8, 7, 7]             672\n",
              "│    │    └─Conv2d: 3-10                      [32, 8, 7, 7]             72\n",
              "│    │    └─GELU: 3-11                        [32, 8, 7, 7]             --\n",
              "│    │    └─BatchNorm2d: 3-12                 [32, 8, 7, 7]             16\n",
              "├─Sequential: 1-3                             [32, 10]                  --\n",
              "│    └─AdaptiveAvgPool2d: 2-7                 [32, 8, 1, 1]             --\n",
              "│    └─Flatten: 2-8                           [32, 8]                   --\n",
              "│    └─Linear: 2-9                            [32, 10]                  90\n",
              "===============================================================================================\n",
              "Total params: 4,338\n",
              "Trainable params: 4,338\n",
              "Non-trainable params: 0\n",
              "Total mult-adds (Units.MEGABYTES): 6.49\n",
              "===============================================================================================\n",
              "Input size (MB): 1.57\n",
              "Forward/backward pass size (MB): 1.41\n",
              "Params size (MB): 0.02\n",
              "Estimated Total Size (MB): 3.00\n",
              "==============================================================================================="
            ]
          },
          "metadata": {},
          "execution_count": 15
        }
      ]
    },
    {
      "cell_type": "code",
      "source": [
        "loss_fn = nn.CrossEntropyLoss()\n",
        "optimizer = torch.optim.SGD(model.parameters(), lr = 0.1)"
      ],
      "metadata": {
        "id": "KntkyRAV21I1"
      },
      "execution_count": 16,
      "outputs": []
    },
    {
      "cell_type": "code",
      "source": [
        "#Create save path\n",
        "MODEL_NAME = \"model_2.pth\"\n",
        "\n",
        "MODEL_SAVE_PATH = MODEL_PATH/MODEL_NAME\n",
        "\n",
        "MODEL_SAVE_PATH"
      ],
      "metadata": {
        "colab": {
          "base_uri": "https://localhost:8080/"
        },
        "id": "jsxlmywrBJOl",
        "outputId": "ee025b08-e7d8-4047-d672-fa4053715d28"
      },
      "execution_count": 17,
      "outputs": [
        {
          "output_type": "execute_result",
          "data": {
            "text/plain": [
              "PosixPath('models/model_2.pth')"
            ]
          },
          "metadata": {},
          "execution_count": 17
        }
      ]
    },
    {
      "cell_type": "code",
      "source": [
        "_, best_acc = eval_model(model, test_dataloader, loss_fn, accuracy_fn, device )\n",
        "best_acc\n"
      ],
      "metadata": {
        "colab": {
          "base_uri": "https://localhost:8080/"
        },
        "id": "Hhq2Ll8dBNJm",
        "outputId": "39d67243-23fe-4a98-e6ee-6cb1c60f3002"
      },
      "execution_count": 24,
      "outputs": [
        {
          "output_type": "execute_result",
          "data": {
            "text/plain": [
              "45.7767571884984"
            ]
          },
          "metadata": {},
          "execution_count": 24
        }
      ]
    },
    {
      "cell_type": "code",
      "source": [
        "train, test = train_test_model(model, train_dataloader,\n",
        "                 test_dataloader,loss_fn, accuracy_fn, optimizer,MODEL_SAVE_PATH,\n",
        "                22, device, best_acc)"
      ],
      "metadata": {
        "colab": {
          "base_uri": "https://localhost:8080/",
          "height": 520,
          "referenced_widgets": [
            "3a03dcfda0a94f19aabe873d534d077a",
            "f63f856ce25945048e269fe012d71ea1",
            "543c633284ce4061b43a9bcae69360ac",
            "b3dc41d35b134b01a42cfcdacd079427",
            "51b7c9b0b46d4aa8a0fd671b4509fcac",
            "07a41a2bbf7f4f958b9607d1cdcafd5d",
            "382edd585ba8471b90a4c1e0bf54725c",
            "e41ed6c4c0144dee974c02ba2ded68f4",
            "b9e88d147d714c1a858362d00abe2ad6",
            "3a2da811a9c04947b92b1e72da0b1a70",
            "e6041dea4d85467fb8aa4c0b2e5f5f03"
          ]
        },
        "id": "gu023Vo2BQXs",
        "outputId": "66cdc2b2-d054-47b0-d231-c1744fc0cec5"
      },
      "execution_count": 25,
      "outputs": [
        {
          "output_type": "display_data",
          "data": {
            "text/plain": [
              "  0%|          | 0/22 [00:00<?, ?it/s]"
            ],
            "application/vnd.jupyter.widget-view+json": {
              "version_major": 2,
              "version_minor": 0,
              "model_id": "3a03dcfda0a94f19aabe873d534d077a"
            }
          },
          "metadata": {}
        },
        {
          "output_type": "stream",
          "name": "stdout",
          "text": [
            "Epoch: 0 | Train loss: 1.555457592010498 | Train accuracy: 43.84596928982725 | Test loss: 1.4993855953216553 | Test_acc: 45.35742811501598\n",
            "Epoch: 1 | Train loss: 1.5534350872039795 | Train accuracy: 43.54406589891235 | Test loss: 1.5307937860488892 | Test_acc: 45.16773162939297\n",
            "model tốt đấy, lưu nhé\n",
            "Epoch: 2 | Train loss: 1.557140827178955 | Train accuracy: 43.72600767754319 | Test loss: 1.496903896331787 | Test_acc: 46.16613418530351\n",
            "Epoch: 3 | Train loss: 1.5544408559799194 | Train accuracy: 43.6920185540627 | Test loss: 1.5239882469177246 | Test_acc: 44.83825878594249\n",
            "Epoch: 4 | Train loss: 1.5496747493743896 | Train accuracy: 43.79198656429942 | Test loss: 1.5808217525482178 | Test_acc: 42.98123003194888\n",
            "Epoch: 5 | Train loss: 1.5453921556472778 | Train accuracy: 43.83797184900832 | Test loss: 1.5454344749450684 | Test_acc: 44.53873801916933\n",
            "Epoch: 6 | Train loss: 1.5470380783081055 | Train accuracy: 43.91394753678823 | Test loss: 1.5058369636535645 | Test_acc: 45.74680511182109\n",
            "Epoch: 7 | Train loss: 1.547412633895874 | Train accuracy: 43.961932181701854 | Test loss: 1.485677719116211 | Test_acc: 46.1361821086262\n",
            "model tốt đấy, lưu nhé\n",
            "Epoch: 8 | Train loss: 1.5455042123794556 | Train accuracy: 43.873960332693535 | Test loss: 1.4891101121902466 | Test_acc: 46.51557507987221\n",
            "Epoch: 9 | Train loss: 1.5455328226089478 | Train accuracy: 44.07789507357646 | Test loss: 1.5053253173828125 | Test_acc: 45.567092651757186\n",
            "Epoch: 10 | Train loss: 1.5434218645095825 | Train accuracy: 43.9179462571977 | Test loss: 1.532900333404541 | Test_acc: 45.057907348242814\n",
            "Epoch: 11 | Train loss: 1.542781949043274 | Train accuracy: 44.13787587971849 | Test loss: 1.523384928703308 | Test_acc: 45.24760383386582\n",
            "Epoch: 12 | Train loss: 1.54031240940094 | Train accuracy: 44.0399072296865 | Test loss: 1.5030690431594849 | Test_acc: 45.07787539936102\n",
            "model tốt đấy, lưu nhé\n",
            "Epoch: 13 | Train loss: 1.5402387380599976 | Train accuracy: 44.26383557261676 | Test loss: 1.4890795946121216 | Test_acc: 46.835063897763575\n",
            "Epoch: 14 | Train loss: 1.5394465923309326 | Train accuracy: 44.287827895073576 | Test loss: 1.5239225625991821 | Test_acc: 44.269169329073485\n",
            "Epoch: 15 | Train loss: 1.5401813983917236 | Train accuracy: 44.12987843889955 | Test loss: 1.486581802368164 | Test_acc: 46.21605431309904\n",
            "Epoch: 16 | Train loss: 1.532610535621643 | Train accuracy: 44.493761996161226 | Test loss: 1.499631404876709 | Test_acc: 45.91653354632588\n",
            "model tốt đấy, lưu nhé\n",
            "Epoch: 17 | Train loss: 1.5314199924468994 | Train accuracy: 44.781669865642996 | Test loss: 1.4695178270339966 | Test_acc: 46.95487220447284\n",
            "Epoch: 18 | Train loss: 1.5360978841781616 | Train accuracy: 44.23984325015995 | Test loss: 1.508797287940979 | Test_acc: 45.32747603833866\n",
            "Epoch: 19 | Train loss: 1.5295581817626953 | Train accuracy: 44.501759436980166 | Test loss: 1.471113920211792 | Test_acc: 46.19608626198083\n",
            "Epoch: 20 | Train loss: 1.5290719270706177 | Train accuracy: 44.86764235444658 | Test loss: 1.47072434425354 | Test_acc: 46.72523961661342\n",
            "Epoch: 21 | Train loss: 1.5305836200714111 | Train accuracy: 44.68969929622521 | Test loss: 1.485097050666809 | Test_acc: 46.56549520766773\n"
          ]
        }
      ]
    },
    {
      "cell_type": "code",
      "source": [],
      "metadata": {
        "id": "Z6yiDio0vNUF"
      },
      "execution_count": null,
      "outputs": []
    }
  ],
  "metadata": {
    "colab": {
      "provenance": [],
      "gpuType": "T4"
    },
    "kernelspec": {
      "display_name": "Python 3",
      "name": "python3"
    },
    "language_info": {
      "name": "python"
    },
    "accelerator": "GPU",
    "widgets": {
      "application/vnd.jupyter.widget-state+json": {
        "3a03dcfda0a94f19aabe873d534d077a": {
          "model_module": "@jupyter-widgets/controls",
          "model_name": "HBoxModel",
          "model_module_version": "1.5.0",
          "state": {
            "_dom_classes": [],
            "_model_module": "@jupyter-widgets/controls",
            "_model_module_version": "1.5.0",
            "_model_name": "HBoxModel",
            "_view_count": null,
            "_view_module": "@jupyter-widgets/controls",
            "_view_module_version": "1.5.0",
            "_view_name": "HBoxView",
            "box_style": "",
            "children": [
              "IPY_MODEL_f63f856ce25945048e269fe012d71ea1",
              "IPY_MODEL_543c633284ce4061b43a9bcae69360ac",
              "IPY_MODEL_b3dc41d35b134b01a42cfcdacd079427"
            ],
            "layout": "IPY_MODEL_51b7c9b0b46d4aa8a0fd671b4509fcac"
          }
        },
        "f63f856ce25945048e269fe012d71ea1": {
          "model_module": "@jupyter-widgets/controls",
          "model_name": "HTMLModel",
          "model_module_version": "1.5.0",
          "state": {
            "_dom_classes": [],
            "_model_module": "@jupyter-widgets/controls",
            "_model_module_version": "1.5.0",
            "_model_name": "HTMLModel",
            "_view_count": null,
            "_view_module": "@jupyter-widgets/controls",
            "_view_module_version": "1.5.0",
            "_view_name": "HTMLView",
            "description": "",
            "description_tooltip": null,
            "layout": "IPY_MODEL_07a41a2bbf7f4f958b9607d1cdcafd5d",
            "placeholder": "​",
            "style": "IPY_MODEL_382edd585ba8471b90a4c1e0bf54725c",
            "value": "100%"
          }
        },
        "543c633284ce4061b43a9bcae69360ac": {
          "model_module": "@jupyter-widgets/controls",
          "model_name": "FloatProgressModel",
          "model_module_version": "1.5.0",
          "state": {
            "_dom_classes": [],
            "_model_module": "@jupyter-widgets/controls",
            "_model_module_version": "1.5.0",
            "_model_name": "FloatProgressModel",
            "_view_count": null,
            "_view_module": "@jupyter-widgets/controls",
            "_view_module_version": "1.5.0",
            "_view_name": "ProgressView",
            "bar_style": "success",
            "description": "",
            "description_tooltip": null,
            "layout": "IPY_MODEL_e41ed6c4c0144dee974c02ba2ded68f4",
            "max": 22,
            "min": 0,
            "orientation": "horizontal",
            "style": "IPY_MODEL_b9e88d147d714c1a858362d00abe2ad6",
            "value": 22
          }
        },
        "b3dc41d35b134b01a42cfcdacd079427": {
          "model_module": "@jupyter-widgets/controls",
          "model_name": "HTMLModel",
          "model_module_version": "1.5.0",
          "state": {
            "_dom_classes": [],
            "_model_module": "@jupyter-widgets/controls",
            "_model_module_version": "1.5.0",
            "_model_name": "HTMLModel",
            "_view_count": null,
            "_view_module": "@jupyter-widgets/controls",
            "_view_module_version": "1.5.0",
            "_view_name": "HTMLView",
            "description": "",
            "description_tooltip": null,
            "layout": "IPY_MODEL_3a2da811a9c04947b92b1e72da0b1a70",
            "placeholder": "​",
            "style": "IPY_MODEL_e6041dea4d85467fb8aa4c0b2e5f5f03",
            "value": " 22/22 [06:47&lt;00:00, 18.49s/it]"
          }
        },
        "51b7c9b0b46d4aa8a0fd671b4509fcac": {
          "model_module": "@jupyter-widgets/base",
          "model_name": "LayoutModel",
          "model_module_version": "1.2.0",
          "state": {
            "_model_module": "@jupyter-widgets/base",
            "_model_module_version": "1.2.0",
            "_model_name": "LayoutModel",
            "_view_count": null,
            "_view_module": "@jupyter-widgets/base",
            "_view_module_version": "1.2.0",
            "_view_name": "LayoutView",
            "align_content": null,
            "align_items": null,
            "align_self": null,
            "border": null,
            "bottom": null,
            "display": null,
            "flex": null,
            "flex_flow": null,
            "grid_area": null,
            "grid_auto_columns": null,
            "grid_auto_flow": null,
            "grid_auto_rows": null,
            "grid_column": null,
            "grid_gap": null,
            "grid_row": null,
            "grid_template_areas": null,
            "grid_template_columns": null,
            "grid_template_rows": null,
            "height": null,
            "justify_content": null,
            "justify_items": null,
            "left": null,
            "margin": null,
            "max_height": null,
            "max_width": null,
            "min_height": null,
            "min_width": null,
            "object_fit": null,
            "object_position": null,
            "order": null,
            "overflow": null,
            "overflow_x": null,
            "overflow_y": null,
            "padding": null,
            "right": null,
            "top": null,
            "visibility": null,
            "width": null
          }
        },
        "07a41a2bbf7f4f958b9607d1cdcafd5d": {
          "model_module": "@jupyter-widgets/base",
          "model_name": "LayoutModel",
          "model_module_version": "1.2.0",
          "state": {
            "_model_module": "@jupyter-widgets/base",
            "_model_module_version": "1.2.0",
            "_model_name": "LayoutModel",
            "_view_count": null,
            "_view_module": "@jupyter-widgets/base",
            "_view_module_version": "1.2.0",
            "_view_name": "LayoutView",
            "align_content": null,
            "align_items": null,
            "align_self": null,
            "border": null,
            "bottom": null,
            "display": null,
            "flex": null,
            "flex_flow": null,
            "grid_area": null,
            "grid_auto_columns": null,
            "grid_auto_flow": null,
            "grid_auto_rows": null,
            "grid_column": null,
            "grid_gap": null,
            "grid_row": null,
            "grid_template_areas": null,
            "grid_template_columns": null,
            "grid_template_rows": null,
            "height": null,
            "justify_content": null,
            "justify_items": null,
            "left": null,
            "margin": null,
            "max_height": null,
            "max_width": null,
            "min_height": null,
            "min_width": null,
            "object_fit": null,
            "object_position": null,
            "order": null,
            "overflow": null,
            "overflow_x": null,
            "overflow_y": null,
            "padding": null,
            "right": null,
            "top": null,
            "visibility": null,
            "width": null
          }
        },
        "382edd585ba8471b90a4c1e0bf54725c": {
          "model_module": "@jupyter-widgets/controls",
          "model_name": "DescriptionStyleModel",
          "model_module_version": "1.5.0",
          "state": {
            "_model_module": "@jupyter-widgets/controls",
            "_model_module_version": "1.5.0",
            "_model_name": "DescriptionStyleModel",
            "_view_count": null,
            "_view_module": "@jupyter-widgets/base",
            "_view_module_version": "1.2.0",
            "_view_name": "StyleView",
            "description_width": ""
          }
        },
        "e41ed6c4c0144dee974c02ba2ded68f4": {
          "model_module": "@jupyter-widgets/base",
          "model_name": "LayoutModel",
          "model_module_version": "1.2.0",
          "state": {
            "_model_module": "@jupyter-widgets/base",
            "_model_module_version": "1.2.0",
            "_model_name": "LayoutModel",
            "_view_count": null,
            "_view_module": "@jupyter-widgets/base",
            "_view_module_version": "1.2.0",
            "_view_name": "LayoutView",
            "align_content": null,
            "align_items": null,
            "align_self": null,
            "border": null,
            "bottom": null,
            "display": null,
            "flex": null,
            "flex_flow": null,
            "grid_area": null,
            "grid_auto_columns": null,
            "grid_auto_flow": null,
            "grid_auto_rows": null,
            "grid_column": null,
            "grid_gap": null,
            "grid_row": null,
            "grid_template_areas": null,
            "grid_template_columns": null,
            "grid_template_rows": null,
            "height": null,
            "justify_content": null,
            "justify_items": null,
            "left": null,
            "margin": null,
            "max_height": null,
            "max_width": null,
            "min_height": null,
            "min_width": null,
            "object_fit": null,
            "object_position": null,
            "order": null,
            "overflow": null,
            "overflow_x": null,
            "overflow_y": null,
            "padding": null,
            "right": null,
            "top": null,
            "visibility": null,
            "width": null
          }
        },
        "b9e88d147d714c1a858362d00abe2ad6": {
          "model_module": "@jupyter-widgets/controls",
          "model_name": "ProgressStyleModel",
          "model_module_version": "1.5.0",
          "state": {
            "_model_module": "@jupyter-widgets/controls",
            "_model_module_version": "1.5.0",
            "_model_name": "ProgressStyleModel",
            "_view_count": null,
            "_view_module": "@jupyter-widgets/base",
            "_view_module_version": "1.2.0",
            "_view_name": "StyleView",
            "bar_color": null,
            "description_width": ""
          }
        },
        "3a2da811a9c04947b92b1e72da0b1a70": {
          "model_module": "@jupyter-widgets/base",
          "model_name": "LayoutModel",
          "model_module_version": "1.2.0",
          "state": {
            "_model_module": "@jupyter-widgets/base",
            "_model_module_version": "1.2.0",
            "_model_name": "LayoutModel",
            "_view_count": null,
            "_view_module": "@jupyter-widgets/base",
            "_view_module_version": "1.2.0",
            "_view_name": "LayoutView",
            "align_content": null,
            "align_items": null,
            "align_self": null,
            "border": null,
            "bottom": null,
            "display": null,
            "flex": null,
            "flex_flow": null,
            "grid_area": null,
            "grid_auto_columns": null,
            "grid_auto_flow": null,
            "grid_auto_rows": null,
            "grid_column": null,
            "grid_gap": null,
            "grid_row": null,
            "grid_template_areas": null,
            "grid_template_columns": null,
            "grid_template_rows": null,
            "height": null,
            "justify_content": null,
            "justify_items": null,
            "left": null,
            "margin": null,
            "max_height": null,
            "max_width": null,
            "min_height": null,
            "min_width": null,
            "object_fit": null,
            "object_position": null,
            "order": null,
            "overflow": null,
            "overflow_x": null,
            "overflow_y": null,
            "padding": null,
            "right": null,
            "top": null,
            "visibility": null,
            "width": null
          }
        },
        "e6041dea4d85467fb8aa4c0b2e5f5f03": {
          "model_module": "@jupyter-widgets/controls",
          "model_name": "DescriptionStyleModel",
          "model_module_version": "1.5.0",
          "state": {
            "_model_module": "@jupyter-widgets/controls",
            "_model_module_version": "1.5.0",
            "_model_name": "DescriptionStyleModel",
            "_view_count": null,
            "_view_module": "@jupyter-widgets/base",
            "_view_module_version": "1.2.0",
            "_view_name": "StyleView",
            "description_width": ""
          }
        }
      }
    }
  },
  "nbformat": 4,
  "nbformat_minor": 0
}